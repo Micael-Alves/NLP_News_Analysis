{
 "cells": [
  {
   "cell_type": "code",
   "execution_count": 27,
   "metadata": {
    "id": "gQglgJldgJ-9"
   },
   "outputs": [],
   "source": [
    "import pandas as pd\n",
    "import numpy as np\n",
    "import tensorflow as tf\n",
    "import matplotlib.pyplot as plt\n",
    "import sklearn.metrics\n",
    "from sklearn.metrics import classification_report\n",
    "from collections import Counter"
   ]
  },
  {
   "cell_type": "code",
   "execution_count": 28,
   "metadata": {
    "id": "aGK8Hzf0gJ-_"
   },
   "outputs": [],
   "source": [
    "train = pd.read_csv('agnews_train.csv')"
   ]
  },
  {
   "cell_type": "code",
   "execution_count": 29,
   "metadata": {
    "id": "r8WkfavWgJ_A"
   },
   "outputs": [],
   "source": [
    "test = pd.read_csv('agnews_test.csv')"
   ]
  },
  {
   "cell_type": "markdown",
   "metadata": {
    "id": "-CLQZXS8gJ_C"
   },
   "source": [
    "# Binary-Classifier Model with Neural Networks and Tensorflow"
   ]
  },
  {
   "cell_type": "code",
   "execution_count": 30,
   "metadata": {
    "id": "ojVUIJVigJ_C"
   },
   "outputs": [],
   "source": [
    "from tensorflow.keras import layers\n",
    "from tensorflow.keras import losses\n",
    "from tensorflow.keras import preprocessing\n",
    "from tensorflow.keras.layers.experimental.preprocessing import TextVectorization"
   ]
  },
  {
   "cell_type": "markdown",
   "metadata": {
    "id": "qeUQI9UGDFKJ"
   },
   "source": [
    "This the function that is created to evaluate each one of the binary classifier, the following elements are present:\n",
    "- Confusion matrix\n",
    "- ROC AUC score\n",
    "- Classification report *(accuracy, recall, precision)*"
   ]
  },
  {
   "cell_type": "code",
   "execution_count": null,
   "metadata": {
    "id": "z3i8yXPv14uc"
   },
   "outputs": [],
   "source": [
    "#This function is used to calculate all the performance indicators of the different models\n",
    "from sklearn import metrics\n",
    "from sklearn.metrics import roc_auc_score\n",
    "from sklearn.metrics import classification_report, precision_score, recall_score\n",
    "\n",
    "\n",
    "def metrics_model(x_test,y_test):\n",
    "    print(\"Performance evaluation: \"+\"\\n\")\n",
    "    \n",
    "    predictions = np.round(model.predict(x_test),0)\n",
    "    cm = metrics.confusion_matrix(y_test, predictions)\n",
    "    print(\"Test score confusion matrix: \"+\"\\n\"+str(cm))\n",
    "\n",
    "    print(\"\\n\"+\"ROC AUC score: \"+str(np.round(roc_auc_score(y_test, predictions),3)))\n",
    "\n",
    "    report = classification_report(y_test, predictions)\n",
    "    print(\"\\n\"+report)"
   ]
  },
  {
   "cell_type": "markdown",
   "metadata": {
    "id": "ClRVCGfLBP7V"
   },
   "source": [
    "This is the function that we created in order to produce a neural network model that we defined everytime that the function is called. The parameters of the function are the number of dimensions of the embedding layers, the max number of words considered by the algorithm (most commun words) and lenght of the sequence."
   ]
  },
  {
   "cell_type": "code",
   "execution_count": 36,
   "metadata": {
    "id": "LM7KuhNigJ_F"
   },
   "outputs": [],
   "source": [
    "def model_creation(embedding_dims=100, max_features = 35000, sequence_length = 250):\n",
    "  x_train=np.array(train.text)\n",
    "  x_test=np.array(test.text)    \n",
    "\n",
    "  vectorize_layer = TextVectorization(\n",
    "      max_tokens=max_features,\n",
    "      output_mode='int',\n",
    "      output_sequence_length=sequence_length)\n",
    "\n",
    "  vectorize_layer.adapt(x_train)\n",
    "\n",
    "  model = tf.keras.models.Sequential()\n",
    "  model.add(tf.keras.Input(shape=(1,), dtype=tf.string))\n",
    "  model.add(vectorize_layer)\n",
    "  model.add(tf.keras.layers.Embedding(max_features + 1,embedding_dims))\n",
    "  model.add(tf.keras.layers.Flatten())\n",
    "  model.add(tf.keras.layers.Dense(16, activation='relu',kernel_regularizer='l2'))\n",
    "  model.add(tf.keras.layers.Dropout(0.5))\n",
    "  model.add(tf.keras.layers.Dense(1,activation=\"sigmoid\"))\n",
    "\n",
    "  model.summary()\n",
    "\n",
    "  model.compile(optimizer=\"adam\",loss=\"binary_crossentropy\", metrics=['accuracy'])"
   ]
  },
  {
   "cell_type": "markdown",
   "metadata": {
    "id": "cnv5fXqaClzY"
   },
   "source": [
    "Fist, the science classification model:"
   ]
  },
  {
   "cell_type": "code",
   "execution_count": 37,
   "metadata": {
    "colab": {
     "base_uri": "https://localhost:8080/"
    },
    "id": "OueG9Hz6gJ_G",
    "outputId": "440df22f-4faf-49b0-bdd2-fea20770112b"
   },
   "outputs": [
    {
     "name": "stdout",
     "output_type": "stream",
     "text": [
      "Model: \"sequential_8\"\n",
      "_________________________________________________________________\n",
      "Layer (type)                 Output Shape              Param #   \n",
      "=================================================================\n",
      "text_vectorization_8 (TextVe (None, 250)               0         \n",
      "_________________________________________________________________\n",
      "embedding_8 (Embedding)      (None, 250, 100)          3500100   \n",
      "_________________________________________________________________\n",
      "flatten_8 (Flatten)          (None, 25000)             0         \n",
      "_________________________________________________________________\n",
      "dense_16 (Dense)             (None, 16)                400016    \n",
      "_________________________________________________________________\n",
      "dropout_8 (Dropout)          (None, 16)                0         \n",
      "_________________________________________________________________\n",
      "dense_17 (Dense)             (None, 1)                 17        \n",
      "=================================================================\n",
      "Total params: 3,900,133\n",
      "Trainable params: 3,900,133\n",
      "Non-trainable params: 0\n",
      "_________________________________________________________________\n",
      "Epoch 1/10\n",
      "110/110 [==============================] - 29s 263ms/step - loss: 0.0422 - accuracy: 0.9959 - val_loss: 0.3866 - val_accuracy: 0.9231\n",
      "Epoch 2/10\n",
      "110/110 [==============================] - 29s 263ms/step - loss: 0.0389 - accuracy: 0.9962 - val_loss: 0.3757 - val_accuracy: 0.9245\n",
      "Epoch 3/10\n",
      "110/110 [==============================] - 29s 261ms/step - loss: 0.0389 - accuracy: 0.9960 - val_loss: 0.3787 - val_accuracy: 0.9240\n",
      "Epoch 4/10\n",
      "110/110 [==============================] - 29s 261ms/step - loss: 0.0378 - accuracy: 0.9960 - val_loss: 0.3833 - val_accuracy: 0.9230\n",
      "Epoch 5/10\n",
      "110/110 [==============================] - 29s 261ms/step - loss: 0.0395 - accuracy: 0.9960 - val_loss: 0.3820 - val_accuracy: 0.9254\n",
      "Epoch 6/10\n",
      "110/110 [==============================] - 29s 262ms/step - loss: 0.0411 - accuracy: 0.9960 - val_loss: 0.3808 - val_accuracy: 0.9240\n",
      "Epoch 7/10\n",
      "110/110 [==============================] - 29s 262ms/step - loss: 0.0372 - accuracy: 0.9960 - val_loss: 0.3906 - val_accuracy: 0.9259\n",
      "Epoch 8/10\n",
      "110/110 [==============================] - 29s 262ms/step - loss: 0.0363 - accuracy: 0.9963 - val_loss: 0.3927 - val_accuracy: 0.9242\n",
      "Epoch 9/10\n",
      "110/110 [==============================] - 29s 260ms/step - loss: 0.0367 - accuracy: 0.9961 - val_loss: 0.4012 - val_accuracy: 0.9231\n",
      "Epoch 10/10\n",
      "110/110 [==============================] - 29s 261ms/step - loss: 0.0365 - accuracy: 0.9961 - val_loss: 0.3770 - val_accuracy: 0.9249\n",
      "Performance evaluation: \n",
      "\n",
      "Test score confusion matrix: \n",
      "[[7249  214]\n",
      " [ 537 2000]]\n",
      "\n",
      "ROC AUC score: 0.88\n",
      "\n",
      "              precision    recall  f1-score   support\n",
      "\n",
      "           0       0.93      0.97      0.95      7463\n",
      "           1       0.90      0.79      0.84      2537\n",
      "\n",
      "    accuracy                           0.92     10000\n",
      "   macro avg       0.92      0.88      0.90     10000\n",
      "weighted avg       0.92      0.92      0.92     10000\n",
      "\n"
     ]
    }
   ],
   "source": [
    "model_creation()\n",
    "y_train_science=np.array(train.science_int)\n",
    "y_test_science=np.array(test.science_int)\n",
    "history_science=model.fit(x_train, y_train_science, epochs=10, batch_size=1000, validation_data=(x_test,y_test_science))\n",
    "metrics_model(x_test,y_test_science)"
   ]
  },
  {
   "cell_type": "markdown",
   "metadata": {
    "id": "hldcYkBUCuP6"
   },
   "source": [
    "Second, the world classification model:"
   ]
  },
  {
   "cell_type": "code",
   "execution_count": 38,
   "metadata": {
    "colab": {
     "base_uri": "https://localhost:8080/"
    },
    "id": "3cqeOrD1gJ_H",
    "outputId": "86516dca-bf00-42a1-e75e-f76318c781a4"
   },
   "outputs": [
    {
     "name": "stdout",
     "output_type": "stream",
     "text": [
      "Model: \"sequential_9\"\n",
      "_________________________________________________________________\n",
      "Layer (type)                 Output Shape              Param #   \n",
      "=================================================================\n",
      "text_vectorization_9 (TextVe (None, 250)               0         \n",
      "_________________________________________________________________\n",
      "embedding_9 (Embedding)      (None, 250, 100)          3500100   \n",
      "_________________________________________________________________\n",
      "flatten_9 (Flatten)          (None, 25000)             0         \n",
      "_________________________________________________________________\n",
      "dense_18 (Dense)             (None, 16)                400016    \n",
      "_________________________________________________________________\n",
      "dropout_9 (Dropout)          (None, 16)                0         \n",
      "_________________________________________________________________\n",
      "dense_19 (Dense)             (None, 1)                 17        \n",
      "=================================================================\n",
      "Total params: 3,900,133\n",
      "Trainable params: 3,900,133\n",
      "Non-trainable params: 0\n",
      "_________________________________________________________________\n",
      "Epoch 1/10\n",
      "110/110 [==============================] - 29s 262ms/step - loss: 0.4587 - accuracy: 0.9449 - val_loss: 0.4663 - val_accuracy: 0.9414\n",
      "Epoch 2/10\n",
      "110/110 [==============================] - 29s 262ms/step - loss: 0.0928 - accuracy: 0.9886 - val_loss: 0.3486 - val_accuracy: 0.9423\n",
      "Epoch 3/10\n",
      "110/110 [==============================] - 29s 263ms/step - loss: 0.0694 - accuracy: 0.9911 - val_loss: 0.3456 - val_accuracy: 0.9436\n",
      "Epoch 4/10\n",
      "110/110 [==============================] - 29s 261ms/step - loss: 0.0584 - accuracy: 0.9923 - val_loss: 0.3208 - val_accuracy: 0.9434\n",
      "Epoch 5/10\n",
      "110/110 [==============================] - 29s 264ms/step - loss: 0.0549 - accuracy: 0.9933 - val_loss: 0.3348 - val_accuracy: 0.9443\n",
      "Epoch 6/10\n",
      "110/110 [==============================] - 29s 264ms/step - loss: 0.0489 - accuracy: 0.9936 - val_loss: 0.3158 - val_accuracy: 0.9421\n",
      "Epoch 7/10\n",
      "110/110 [==============================] - 29s 262ms/step - loss: 0.0504 - accuracy: 0.9939 - val_loss: 0.3278 - val_accuracy: 0.9438\n",
      "Epoch 8/10\n",
      "110/110 [==============================] - 29s 262ms/step - loss: 0.0495 - accuracy: 0.9936 - val_loss: 0.3384 - val_accuracy: 0.9459\n",
      "Epoch 9/10\n",
      "110/110 [==============================] - 29s 262ms/step - loss: 0.0478 - accuracy: 0.9937 - val_loss: 0.3397 - val_accuracy: 0.9432\n",
      "Epoch 10/10\n",
      "110/110 [==============================] - 29s 263ms/step - loss: 0.0473 - accuracy: 0.9941 - val_loss: 0.3452 - val_accuracy: 0.9434\n",
      "Performance evaluation: \n",
      "\n",
      "Test score confusion matrix: \n",
      "[[7339  152]\n",
      " [ 414 2095]]\n",
      "\n",
      "ROC AUC score: 0.907\n",
      "\n",
      "              precision    recall  f1-score   support\n",
      "\n",
      "           0       0.95      0.98      0.96      7491\n",
      "           1       0.93      0.83      0.88      2509\n",
      "\n",
      "    accuracy                           0.94     10000\n",
      "   macro avg       0.94      0.91      0.92     10000\n",
      "weighted avg       0.94      0.94      0.94     10000\n",
      "\n"
     ]
    }
   ],
   "source": [
    "model_creation()\n",
    "y_train_world=np.array(train.world_int)\n",
    "y_test_world=np.array(test.world_int)\n",
    "history_world=model.fit(x_train, y_train_world, epochs=10, batch_size=1000, validation_data=(x_test,y_test_world))\n",
    "metrics_model(x_test,y_test_world)"
   ]
  },
  {
   "cell_type": "markdown",
   "metadata": {
    "id": "TUo89QIfCx9i"
   },
   "source": [
    "Third, the business classification model:"
   ]
  },
  {
   "cell_type": "code",
   "execution_count": 39,
   "metadata": {
    "colab": {
     "base_uri": "https://localhost:8080/"
    },
    "id": "qGkvtydugJ_J",
    "outputId": "07b0f73b-f168-4047-f781-a86f70686058"
   },
   "outputs": [
    {
     "name": "stdout",
     "output_type": "stream",
     "text": [
      "Model: \"sequential_10\"\n",
      "_________________________________________________________________\n",
      "Layer (type)                 Output Shape              Param #   \n",
      "=================================================================\n",
      "text_vectorization_10 (TextV (None, 250)               0         \n",
      "_________________________________________________________________\n",
      "embedding_10 (Embedding)     (None, 250, 100)          3500100   \n",
      "_________________________________________________________________\n",
      "flatten_10 (Flatten)         (None, 25000)             0         \n",
      "_________________________________________________________________\n",
      "dense_20 (Dense)             (None, 16)                400016    \n",
      "_________________________________________________________________\n",
      "dropout_10 (Dropout)         (None, 16)                0         \n",
      "_________________________________________________________________\n",
      "dense_21 (Dense)             (None, 1)                 17        \n",
      "=================================================================\n",
      "Total params: 3,900,133\n",
      "Trainable params: 3,900,133\n",
      "Non-trainable params: 0\n",
      "_________________________________________________________________\n",
      "Epoch 1/10\n",
      "110/110 [==============================] - 29s 262ms/step - loss: 0.4689 - accuracy: 0.9252 - val_loss: 0.5444 - val_accuracy: 0.9296\n",
      "Epoch 2/10\n",
      "110/110 [==============================] - 29s 261ms/step - loss: 0.1207 - accuracy: 0.9804 - val_loss: 0.4552 - val_accuracy: 0.9258\n",
      "Epoch 3/10\n",
      "110/110 [==============================] - 29s 260ms/step - loss: 0.0818 - accuracy: 0.9872 - val_loss: 0.3742 - val_accuracy: 0.9266\n",
      "Epoch 4/10\n",
      "110/110 [==============================] - 29s 259ms/step - loss: 0.0723 - accuracy: 0.9895 - val_loss: 0.3556 - val_accuracy: 0.9246\n",
      "Epoch 5/10\n",
      "110/110 [==============================] - 29s 260ms/step - loss: 0.0643 - accuracy: 0.9911 - val_loss: 0.3746 - val_accuracy: 0.9256\n",
      "Epoch 6/10\n",
      "110/110 [==============================] - 28s 259ms/step - loss: 0.0595 - accuracy: 0.9915 - val_loss: 0.4040 - val_accuracy: 0.9247\n",
      "Epoch 7/10\n",
      "110/110 [==============================] - 29s 260ms/step - loss: 0.0565 - accuracy: 0.9925 - val_loss: 0.3785 - val_accuracy: 0.9249\n",
      "Epoch 8/10\n",
      "110/110 [==============================] - 28s 258ms/step - loss: 0.0554 - accuracy: 0.9925 - val_loss: 0.3936 - val_accuracy: 0.9253\n",
      "Epoch 9/10\n",
      "110/110 [==============================] - 28s 257ms/step - loss: 0.0534 - accuracy: 0.9927 - val_loss: 0.3999 - val_accuracy: 0.9261\n",
      "Epoch 10/10\n",
      "110/110 [==============================] - 28s 257ms/step - loss: 0.0527 - accuracy: 0.9934 - val_loss: 0.3906 - val_accuracy: 0.9248\n",
      "Performance evaluation: \n",
      "\n",
      "Test score confusion matrix: \n",
      "[[7256  248]\n",
      " [ 504 1992]]\n",
      "\n",
      "ROC AUC score: 0.883\n",
      "\n",
      "              precision    recall  f1-score   support\n",
      "\n",
      "           0       0.94      0.97      0.95      7504\n",
      "           1       0.89      0.80      0.84      2496\n",
      "\n",
      "    accuracy                           0.92     10000\n",
      "   macro avg       0.91      0.88      0.90     10000\n",
      "weighted avg       0.92      0.92      0.92     10000\n",
      "\n"
     ]
    }
   ],
   "source": [
    "model_creation()\n",
    "y_train_business=np.array(train.business_int)\n",
    "y_test_business=np.array(test.business_int)\n",
    "history_business=model.fit(x_train, y_train_business, epochs=10, batch_size=1000, validation_data=(x_test,y_test_business))\n",
    "metrics_model(x_test,y_test_business)"
   ]
  },
  {
   "cell_type": "markdown",
   "metadata": {
    "id": "gP7Qe41sC4GI"
   },
   "source": [
    "Finally, the sports classification model:"
   ]
  },
  {
   "cell_type": "code",
   "execution_count": 40,
   "metadata": {
    "colab": {
     "base_uri": "https://localhost:8080/"
    },
    "id": "-TQTnRLNgJ_J",
    "outputId": "d6e51fbf-52fa-41c4-909b-45b77bb52adf",
    "scrolled": true
   },
   "outputs": [
    {
     "name": "stdout",
     "output_type": "stream",
     "text": [
      "Model: \"sequential_11\"\n",
      "_________________________________________________________________\n",
      "Layer (type)                 Output Shape              Param #   \n",
      "=================================================================\n",
      "text_vectorization_11 (TextV (None, 250)               0         \n",
      "_________________________________________________________________\n",
      "embedding_11 (Embedding)     (None, 250, 100)          3500100   \n",
      "_________________________________________________________________\n",
      "flatten_11 (Flatten)         (None, 25000)             0         \n",
      "_________________________________________________________________\n",
      "dense_22 (Dense)             (None, 16)                400016    \n",
      "_________________________________________________________________\n",
      "dropout_11 (Dropout)         (None, 16)                0         \n",
      "_________________________________________________________________\n",
      "dense_23 (Dense)             (None, 1)                 17        \n",
      "=================================================================\n",
      "Total params: 3,900,133\n",
      "Trainable params: 3,900,133\n",
      "Non-trainable params: 0\n",
      "_________________________________________________________________\n",
      "Epoch 1/10\n",
      "110/110 [==============================] - 29s 261ms/step - loss: 0.3823 - accuracy: 0.9558 - val_loss: 0.2288 - val_accuracy: 0.9815\n",
      "Epoch 2/10\n",
      "110/110 [==============================] - 29s 264ms/step - loss: 0.0967 - accuracy: 0.9888 - val_loss: 0.1189 - val_accuracy: 0.9808\n",
      "Epoch 3/10\n",
      "110/110 [==============================] - 29s 263ms/step - loss: 0.0630 - accuracy: 0.9901 - val_loss: 0.1171 - val_accuracy: 0.9783\n",
      "Epoch 4/10\n",
      "110/110 [==============================] - 29s 262ms/step - loss: 0.0550 - accuracy: 0.9912 - val_loss: 0.0950 - val_accuracy: 0.9809\n",
      "Epoch 5/10\n",
      "110/110 [==============================] - 29s 261ms/step - loss: 0.0531 - accuracy: 0.9916 - val_loss: 0.0959 - val_accuracy: 0.9818\n",
      "Epoch 6/10\n",
      "110/110 [==============================] - 29s 260ms/step - loss: 0.0525 - accuracy: 0.9915 - val_loss: 0.0997 - val_accuracy: 0.9807\n",
      "Epoch 7/10\n",
      "110/110 [==============================] - 28s 259ms/step - loss: 0.0491 - accuracy: 0.9927 - val_loss: 0.0999 - val_accuracy: 0.9807\n",
      "Epoch 8/10\n",
      "110/110 [==============================] - 29s 260ms/step - loss: 0.0475 - accuracy: 0.9930 - val_loss: 0.1005 - val_accuracy: 0.9803\n",
      "Epoch 9/10\n",
      "110/110 [==============================] - 29s 260ms/step - loss: 0.0476 - accuracy: 0.9925 - val_loss: 0.1045 - val_accuracy: 0.9798\n",
      "Epoch 10/10\n",
      "110/110 [==============================] - 29s 259ms/step - loss: 0.0455 - accuracy: 0.9933 - val_loss: 0.0934 - val_accuracy: 0.9821\n",
      "Performance evaluation: \n",
      "\n",
      "Test score confusion matrix: \n",
      "[[7458   84]\n",
      " [  95 2363]]\n",
      "\n",
      "ROC AUC score: 0.975\n",
      "\n",
      "              precision    recall  f1-score   support\n",
      "\n",
      "           0       0.99      0.99      0.99      7542\n",
      "           1       0.97      0.96      0.96      2458\n",
      "\n",
      "    accuracy                           0.98     10000\n",
      "   macro avg       0.98      0.98      0.98     10000\n",
      "weighted avg       0.98      0.98      0.98     10000\n",
      "\n"
     ]
    }
   ],
   "source": [
    "model_creation()\n",
    "y_train_sports=np.array(train.sports_int)\n",
    "y_test_sports=np.array(test.sports_int)\n",
    "history_sports=model.fit(x_train, y_train_sports, epochs=10, batch_size=1000, validation_data=(x_test,y_test_sports))\n",
    "metrics_model(x_test,y_test_sports)"
   ]
  },
  {
   "cell_type": "markdown",
   "metadata": {
    "id": "A2p92D9hgJ_K"
   },
   "source": [
    "# Multi-Classifier Model with Neural Networks and Tensorflow\n",
    "First, encoding the y variable in an appropriate format for the softmax layer in tensorflow. Therefore, we transformed the ordinal encoding into a binary list with the 1 indicating the class."
   ]
  },
  {
   "cell_type": "code",
   "execution_count": 41,
   "metadata": {
    "id": "4z8NcyqagJ_K"
   },
   "outputs": [],
   "source": [
    "from sklearn.preprocessing import OneHotEncoder\n",
    "onehot_encoder = OneHotEncoder(sparse=False)\n",
    "#Training set\n",
    "np_train_label_int=np.array(train.label_int)\n",
    "np_train_label_int=np_train_label_int.reshape(len(np_train_label_int), 1)\n",
    "y_train_softmax = onehot_encoder.fit_transform(np_train_label_int)\n",
    "\n",
    "#Test set\n",
    "np_test_label_int=np.array(test.label_int)\n",
    "np_test_label_int=np_test_label_int.reshape(len(np_test_label_int), 1)\n",
    "y_test_softmax = onehot_encoder.transform(np_test_label_int)"
   ]
  },
  {
   "cell_type": "markdown",
   "metadata": {
    "id": "rkTn7k23gJ_K"
   },
   "source": [
    "Creation of the model:"
   ]
  },
  {
   "cell_type": "code",
   "execution_count": 42,
   "metadata": {
    "colab": {
     "base_uri": "https://localhost:8080/"
    },
    "id": "XvnkJEail6r-",
    "outputId": "5ae33c81-b72f-4ec9-dad1-c40ce85016d8"
   },
   "outputs": [
    {
     "name": "stdout",
     "output_type": "stream",
     "text": [
      "Model: \"sequential_12\"\n",
      "_________________________________________________________________\n",
      "Layer (type)                 Output Shape              Param #   \n",
      "=================================================================\n",
      "text_vectorization_12 (TextV (None, 250)               0         \n",
      "_________________________________________________________________\n",
      "embedding_12 (Embedding)     (None, 250, 150)          5250150   \n",
      "_________________________________________________________________\n",
      "flatten_12 (Flatten)         (None, 37500)             0         \n",
      "_________________________________________________________________\n",
      "dense_24 (Dense)             (None, 32)                1200032   \n",
      "_________________________________________________________________\n",
      "dropout_12 (Dropout)         (None, 32)                0         \n",
      "_________________________________________________________________\n",
      "dense_25 (Dense)             (None, 16)                528       \n",
      "_________________________________________________________________\n",
      "dropout_13 (Dropout)         (None, 16)                0         \n",
      "_________________________________________________________________\n",
      "dense_26 (Dense)             (None, 4)                 68        \n",
      "=================================================================\n",
      "Total params: 6,450,778\n",
      "Trainable params: 6,450,778\n",
      "Non-trainable params: 0\n",
      "_________________________________________________________________\n"
     ]
    }
   ],
   "source": [
    "embedding_dims=150\n",
    "max_features = 35000\n",
    "sequence_length = 250\n",
    "\n",
    "vectorize_layer = TextVectorization(\n",
    "    max_tokens=max_features,\n",
    "    output_mode='int',\n",
    "    output_sequence_length=sequence_length)\n",
    "\n",
    "x_train=np.array(train.text)\n",
    "x_test=np.array(test.text)    \n",
    "vectorize_layer.adapt(x_train)\n",
    "\n",
    "model_soft = tf.keras.models.Sequential()\n",
    "model_soft.add(tf.keras.Input(shape=(1,), dtype=tf.string))\n",
    "model_soft.add(vectorize_layer)\n",
    "model_soft.add(tf.keras.layers.Embedding(max_features + 1,embedding_dims))\n",
    "model_soft.add(tf.keras.layers.Flatten())\n",
    "model_soft.add(tf.keras.layers.Dense(32, activation='relu',kernel_regularizer='l2'))\n",
    "model_soft.add(tf.keras.layers.Dropout(0.5))\n",
    "model_soft.add(tf.keras.layers.Dense(16, activation='relu',kernel_regularizer='l2'))\n",
    "model_soft.add(tf.keras.layers.Dropout(0.5))\n",
    "model_soft.add(tf.keras.layers.Dense(4, activation=tf.nn.softmax))\n",
    "\n",
    "model_soft.summary()\n",
    "\n",
    "model_soft.compile(optimizer=\"adam\",loss=\"categorical_crossentropy\", metrics=['accuracy'])"
   ]
  },
  {
   "cell_type": "markdown",
   "metadata": {
    "id": "XuLxcv4HE-gZ"
   },
   "source": [
    "Training of the model:"
   ]
  },
  {
   "cell_type": "code",
   "execution_count": 43,
   "metadata": {
    "colab": {
     "base_uri": "https://localhost:8080/"
    },
    "id": "WtOkyc7dl-Px",
    "outputId": "71b2ed2a-55dc-41f5-dc3c-b8739753ed66"
   },
   "outputs": [
    {
     "name": "stdout",
     "output_type": "stream",
     "text": [
      "Epoch 1/20\n",
      "110/110 [==============================] - 35s 311ms/step - loss: 1.6784 - accuracy: 0.2641 - val_loss: 1.0459 - val_accuracy: 0.6344\n",
      "Epoch 2/20\n",
      "110/110 [==============================] - 34s 311ms/step - loss: 1.0322 - accuracy: 0.6038 - val_loss: 0.6507 - val_accuracy: 0.8655\n",
      "Epoch 3/20\n",
      "110/110 [==============================] - 34s 312ms/step - loss: 0.7488 - accuracy: 0.7694 - val_loss: 0.5137 - val_accuracy: 0.8938\n",
      "Epoch 4/20\n",
      "110/110 [==============================] - 34s 313ms/step - loss: 0.6380 - accuracy: 0.8262 - val_loss: 0.4594 - val_accuracy: 0.9018\n",
      "Epoch 5/20\n",
      "110/110 [==============================] - 34s 313ms/step - loss: 0.5725 - accuracy: 0.8507 - val_loss: 0.4334 - val_accuracy: 0.9069\n",
      "Epoch 6/20\n",
      "110/110 [==============================] - 34s 312ms/step - loss: 0.5344 - accuracy: 0.8659 - val_loss: 0.4172 - val_accuracy: 0.9078\n",
      "Epoch 7/20\n",
      "110/110 [==============================] - 34s 310ms/step - loss: 0.5093 - accuracy: 0.8771 - val_loss: 0.4055 - val_accuracy: 0.9092\n",
      "Epoch 8/20\n",
      "110/110 [==============================] - 34s 310ms/step - loss: 0.4817 - accuracy: 0.8853 - val_loss: 0.4100 - val_accuracy: 0.9047\n",
      "Epoch 9/20\n",
      "110/110 [==============================] - 34s 311ms/step - loss: 0.4690 - accuracy: 0.8891 - val_loss: 0.4032 - val_accuracy: 0.9086\n",
      "Epoch 10/20\n",
      "110/110 [==============================] - 34s 313ms/step - loss: 0.4432 - accuracy: 0.8959 - val_loss: 0.4002 - val_accuracy: 0.9059\n",
      "Epoch 11/20\n",
      "110/110 [==============================] - 34s 312ms/step - loss: 0.4258 - accuracy: 0.9033 - val_loss: 0.4034 - val_accuracy: 0.9074\n",
      "Epoch 12/20\n",
      "110/110 [==============================] - 34s 312ms/step - loss: 0.4183 - accuracy: 0.9051 - val_loss: 0.4040 - val_accuracy: 0.9081\n",
      "Epoch 13/20\n",
      "110/110 [==============================] - 34s 312ms/step - loss: 0.4050 - accuracy: 0.9084 - val_loss: 0.4023 - val_accuracy: 0.9070\n",
      "Epoch 14/20\n",
      "110/110 [==============================] - 35s 314ms/step - loss: 0.3858 - accuracy: 0.9148 - val_loss: 0.4117 - val_accuracy: 0.9082\n",
      "Epoch 15/20\n",
      "110/110 [==============================] - 34s 311ms/step - loss: 0.3755 - accuracy: 0.9175 - val_loss: 0.4119 - val_accuracy: 0.9057\n",
      "Epoch 16/20\n",
      "110/110 [==============================] - 34s 312ms/step - loss: 0.3602 - accuracy: 0.9226 - val_loss: 0.4163 - val_accuracy: 0.9055\n",
      "Epoch 17/20\n",
      "110/110 [==============================] - 34s 313ms/step - loss: 0.3492 - accuracy: 0.9266 - val_loss: 0.4287 - val_accuracy: 0.9061\n",
      "Epoch 18/20\n",
      "110/110 [==============================] - 34s 311ms/step - loss: 0.3445 - accuracy: 0.9285 - val_loss: 0.4274 - val_accuracy: 0.9040\n",
      "Epoch 19/20\n",
      "110/110 [==============================] - 34s 311ms/step - loss: 0.3277 - accuracy: 0.9325 - val_loss: 0.4352 - val_accuracy: 0.9051\n",
      "Epoch 20/20\n",
      "110/110 [==============================] - 34s 312ms/step - loss: 0.3180 - accuracy: 0.9346 - val_loss: 0.4408 - val_accuracy: 0.9030\n"
     ]
    }
   ],
   "source": [
    "history_softmax=model_soft.fit(x_train, y_train_softmax, epochs=20, batch_size=1000, validation_data=(x_test,y_test_softmax))"
   ]
  },
  {
   "cell_type": "markdown",
   "metadata": {
    "id": "EJBHlc53HTZZ"
   },
   "source": [
    "Evaluation of the model:"
   ]
  },
  {
   "cell_type": "code",
   "execution_count": 45,
   "metadata": {
    "colab": {
     "base_uri": "https://localhost:8080/"
    },
    "id": "urFp3-jUBJGg",
    "outputId": "0e4afc1f-9502-48e4-ea04-90597d7385ed"
   },
   "outputs": [
    {
     "name": "stdout",
     "output_type": "stream",
     "text": [
      "ROC AUC value test score: 0.934 \n",
      "\n",
      "Accuracy test set: 0.896 \n",
      "\n",
      "              precision    recall  f1-score   support\n",
      "\n",
      "           0       0.88      0.87      0.87      2537\n",
      "           1       0.96      0.98      0.97      2458\n",
      "           2       0.93      0.88      0.90      2509\n",
      "           3       0.88      0.86      0.87      2496\n",
      "\n",
      "   micro avg       0.91      0.90      0.90     10000\n",
      "   macro avg       0.91      0.90      0.90     10000\n",
      "weighted avg       0.91      0.90      0.90     10000\n",
      " samples avg       0.90      0.90      0.90     10000\n",
      "\n",
      "Confusion matrix: \n",
      "[[[7165  298]\n",
      "  [ 339 2198]]\n",
      "\n",
      " [[7442  100]\n",
      "  [  58 2400]]\n",
      "\n",
      " [[7313  178]\n",
      "  [ 300 2209]]\n",
      "\n",
      " [[7207  297]\n",
      "  [ 343 2153]]]\n"
     ]
    },
    {
     "name": "stderr",
     "output_type": "stream",
     "text": [
      "/usr/local/lib/python3.7/dist-packages/sklearn/metrics/_classification.py:1272: UndefinedMetricWarning: Precision and F-score are ill-defined and being set to 0.0 in samples with no predicted labels. Use `zero_division` parameter to control this behavior.\n",
      "  _warn_prf(average, modifier, msg_start, len(result))\n"
     ]
    }
   ],
   "source": [
    "from sklearn.metrics import roc_auc_score\n",
    "from sklearn.metrics import multilabel_confusion_matrix\n",
    "from sklearn.metrics import accuracy_score\n",
    "\n",
    "y_pred_softmax=np.round(model_soft.predict(x_test),0)\n",
    "roc_s = roc_auc_score(y_test_softmax, np.round(model_soft.predict(x_test)), average='macro', multi_class='ovo')\n",
    "print(\"ROC AUC value test score: {:.3f}\".format(roc_s),\"\\n\")\n",
    "accuracy_test=accuracy_score(y_test_softmax, y_pred_softmax)\n",
    "print(\"Accuracy test set: {:.3f}\".format(accuracy_test),\"\\n\")\n",
    "\n",
    "report = classification_report(y_test_softmax, y_pred_softmax)\n",
    "print(report)\n",
    "\n",
    "conf = multilabel_confusion_matrix(y_test_softmax, y_pred_softmax)\n",
    "print(\"Confusion matrix: \\n{}\".format(conf))"
   ]
  }
 ],
 "metadata": {
  "colab": {
   "name": "NLP_assignment-Copy2.ipynb",
   "provenance": []
  },
  "kernelspec": {
   "display_name": "Python 3",
   "language": "python",
   "name": "python3"
  },
  "language_info": {
   "codemirror_mode": {
    "name": "ipython",
    "version": 3
   },
   "file_extension": ".py",
   "mimetype": "text/x-python",
   "name": "python",
   "nbconvert_exporter": "python",
   "pygments_lexer": "ipython3",
   "version": "3.8.10"
  }
 },
 "nbformat": 4,
 "nbformat_minor": 1
}
