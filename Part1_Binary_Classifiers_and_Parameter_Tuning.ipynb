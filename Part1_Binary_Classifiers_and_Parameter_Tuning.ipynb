{
 "cells": [
  {
   "cell_type": "markdown",
   "metadata": {},
   "source": [
    "# Binary classifiers, parameter tuning and decision threshold experimentation"
   ]
  },
  {
   "cell_type": "markdown",
   "metadata": {},
   "source": [
    "## Exploration"
   ]
  },
  {
   "cell_type": "code",
   "execution_count": 1,
   "metadata": {},
   "outputs": [],
   "source": [
    "import pandas as pd\n",
    "import numpy as np\n",
    "import sklearn.metrics\n",
    "from sklearn.metrics import classification_report\n",
    "from collections import Counter"
   ]
  },
  {
   "cell_type": "code",
   "execution_count": 2,
   "metadata": {},
   "outputs": [],
   "source": [
    "train_df = pd.read_csv('agnews_train.csv')\n",
    "test_df = pd.read_csv('agnews_test.csv')"
   ]
  },
  {
   "cell_type": "code",
   "execution_count": 7,
   "metadata": {},
   "outputs": [
    {
     "data": {
      "text/html": [
       "<div>\n",
       "<style scoped>\n",
       "    .dataframe tbody tr th:only-of-type {\n",
       "        vertical-align: middle;\n",
       "    }\n",
       "\n",
       "    .dataframe tbody tr th {\n",
       "        vertical-align: top;\n",
       "    }\n",
       "\n",
       "    .dataframe thead th {\n",
       "        text-align: right;\n",
       "    }\n",
       "</style>\n",
       "<table border=\"1\" class=\"dataframe\">\n",
       "  <thead>\n",
       "    <tr style=\"text-align: right;\">\n",
       "      <th></th>\n",
       "      <th>text</th>\n",
       "      <th>label</th>\n",
       "      <th>label_int</th>\n",
       "      <th>science_int</th>\n",
       "      <th>sports_int</th>\n",
       "      <th>world_int</th>\n",
       "      <th>business_int</th>\n",
       "    </tr>\n",
       "  </thead>\n",
       "  <tbody>\n",
       "    <tr>\n",
       "      <th>0</th>\n",
       "      <td>John Souza, a volunteer with the Boone County ...</td>\n",
       "      <td>Business</td>\n",
       "      <td>3</td>\n",
       "      <td>0</td>\n",
       "      <td>0</td>\n",
       "      <td>0</td>\n",
       "      <td>1</td>\n",
       "    </tr>\n",
       "    <tr>\n",
       "      <th>1</th>\n",
       "      <td>Spain needs only to beat an under-strength Fre...</td>\n",
       "      <td>Sports</td>\n",
       "      <td>1</td>\n",
       "      <td>0</td>\n",
       "      <td>1</td>\n",
       "      <td>0</td>\n",
       "      <td>0</td>\n",
       "    </tr>\n",
       "    <tr>\n",
       "      <th>2</th>\n",
       "      <td>PANAMA CITY, Panama -- When the United States ...</td>\n",
       "      <td>World</td>\n",
       "      <td>2</td>\n",
       "      <td>0</td>\n",
       "      <td>0</td>\n",
       "      <td>1</td>\n",
       "      <td>0</td>\n",
       "    </tr>\n",
       "    <tr>\n",
       "      <th>3</th>\n",
       "      <td>Gilbert Arenas, Jarvis Hayes and Anthony Peele...</td>\n",
       "      <td>Sports</td>\n",
       "      <td>1</td>\n",
       "      <td>0</td>\n",
       "      <td>1</td>\n",
       "      <td>0</td>\n",
       "      <td>0</td>\n",
       "    </tr>\n",
       "    <tr>\n",
       "      <th>4</th>\n",
       "      <td>MEMPHIS, Tenn. -- Kobe Bryant had his worst sh...</td>\n",
       "      <td>Sports</td>\n",
       "      <td>1</td>\n",
       "      <td>0</td>\n",
       "      <td>1</td>\n",
       "      <td>0</td>\n",
       "      <td>0</td>\n",
       "    </tr>\n",
       "  </tbody>\n",
       "</table>\n",
       "</div>"
      ],
      "text/plain": [
       "                                                text     label  label_int  \\\n",
       "0  John Souza, a volunteer with the Boone County ...  Business          3   \n",
       "1  Spain needs only to beat an under-strength Fre...    Sports          1   \n",
       "2  PANAMA CITY, Panama -- When the United States ...     World          2   \n",
       "3  Gilbert Arenas, Jarvis Hayes and Anthony Peele...    Sports          1   \n",
       "4  MEMPHIS, Tenn. -- Kobe Bryant had his worst sh...    Sports          1   \n",
       "\n",
       "   science_int  sports_int  world_int  business_int  \n",
       "0            0           0          0             1  \n",
       "1            0           1          0             0  \n",
       "2            0           0          1             0  \n",
       "3            0           1          0             0  \n",
       "4            0           1          0             0  "
      ]
     },
     "execution_count": 7,
     "metadata": {},
     "output_type": "execute_result"
    }
   ],
   "source": [
    "train_df.head()"
   ]
  },
  {
   "cell_type": "code",
   "execution_count": 5,
   "metadata": {},
   "outputs": [
    {
     "data": {
      "text/html": [
       "<div>\n",
       "<style scoped>\n",
       "    .dataframe tbody tr th:only-of-type {\n",
       "        vertical-align: middle;\n",
       "    }\n",
       "\n",
       "    .dataframe tbody tr th {\n",
       "        vertical-align: top;\n",
       "    }\n",
       "\n",
       "    .dataframe thead th {\n",
       "        text-align: right;\n",
       "    }\n",
       "</style>\n",
       "<table border=\"1\" class=\"dataframe\">\n",
       "  <thead>\n",
       "    <tr style=\"text-align: right;\">\n",
       "      <th></th>\n",
       "      <th>label_int</th>\n",
       "      <th>science_int</th>\n",
       "      <th>sports_int</th>\n",
       "      <th>world_int</th>\n",
       "      <th>business_int</th>\n",
       "    </tr>\n",
       "  </thead>\n",
       "  <tbody>\n",
       "    <tr>\n",
       "      <th>count</th>\n",
       "      <td>109999.000000</td>\n",
       "      <td>109999.000000</td>\n",
       "      <td>109999.000000</td>\n",
       "      <td>109999.000000</td>\n",
       "      <td>109999.000000</td>\n",
       "    </tr>\n",
       "    <tr>\n",
       "      <th>mean</th>\n",
       "      <td>1.500341</td>\n",
       "      <td>0.249657</td>\n",
       "      <td>0.250384</td>\n",
       "      <td>0.249920</td>\n",
       "      <td>0.250039</td>\n",
       "    </tr>\n",
       "    <tr>\n",
       "      <th>std</th>\n",
       "      <td>1.117767</td>\n",
       "      <td>0.432816</td>\n",
       "      <td>0.433236</td>\n",
       "      <td>0.432969</td>\n",
       "      <td>0.433037</td>\n",
       "    </tr>\n",
       "    <tr>\n",
       "      <th>min</th>\n",
       "      <td>0.000000</td>\n",
       "      <td>0.000000</td>\n",
       "      <td>0.000000</td>\n",
       "      <td>0.000000</td>\n",
       "      <td>0.000000</td>\n",
       "    </tr>\n",
       "    <tr>\n",
       "      <th>25%</th>\n",
       "      <td>1.000000</td>\n",
       "      <td>0.000000</td>\n",
       "      <td>0.000000</td>\n",
       "      <td>0.000000</td>\n",
       "      <td>0.000000</td>\n",
       "    </tr>\n",
       "    <tr>\n",
       "      <th>50%</th>\n",
       "      <td>1.000000</td>\n",
       "      <td>0.000000</td>\n",
       "      <td>0.000000</td>\n",
       "      <td>0.000000</td>\n",
       "      <td>0.000000</td>\n",
       "    </tr>\n",
       "    <tr>\n",
       "      <th>75%</th>\n",
       "      <td>3.000000</td>\n",
       "      <td>0.000000</td>\n",
       "      <td>1.000000</td>\n",
       "      <td>0.000000</td>\n",
       "      <td>1.000000</td>\n",
       "    </tr>\n",
       "    <tr>\n",
       "      <th>max</th>\n",
       "      <td>3.000000</td>\n",
       "      <td>1.000000</td>\n",
       "      <td>1.000000</td>\n",
       "      <td>1.000000</td>\n",
       "      <td>1.000000</td>\n",
       "    </tr>\n",
       "  </tbody>\n",
       "</table>\n",
       "</div>"
      ],
      "text/plain": [
       "           label_int    science_int     sports_int      world_int  \\\n",
       "count  109999.000000  109999.000000  109999.000000  109999.000000   \n",
       "mean        1.500341       0.249657       0.250384       0.249920   \n",
       "std         1.117767       0.432816       0.433236       0.432969   \n",
       "min         0.000000       0.000000       0.000000       0.000000   \n",
       "25%         1.000000       0.000000       0.000000       0.000000   \n",
       "50%         1.000000       0.000000       0.000000       0.000000   \n",
       "75%         3.000000       0.000000       1.000000       0.000000   \n",
       "max         3.000000       1.000000       1.000000       1.000000   \n",
       "\n",
       "        business_int  \n",
       "count  109999.000000  \n",
       "mean        0.250039  \n",
       "std         0.433037  \n",
       "min         0.000000  \n",
       "25%         0.000000  \n",
       "50%         0.000000  \n",
       "75%         1.000000  \n",
       "max         1.000000  "
      ]
     },
     "execution_count": 5,
     "metadata": {},
     "output_type": "execute_result"
    }
   ],
   "source": [
    "train_df.describe()"
   ]
  },
  {
   "cell_type": "code",
   "execution_count": 8,
   "metadata": {},
   "outputs": [
    {
     "data": {
      "text/html": [
       "<div>\n",
       "<style scoped>\n",
       "    .dataframe tbody tr th:only-of-type {\n",
       "        vertical-align: middle;\n",
       "    }\n",
       "\n",
       "    .dataframe tbody tr th {\n",
       "        vertical-align: top;\n",
       "    }\n",
       "\n",
       "    .dataframe thead th {\n",
       "        text-align: right;\n",
       "    }\n",
       "</style>\n",
       "<table border=\"1\" class=\"dataframe\">\n",
       "  <thead>\n",
       "    <tr style=\"text-align: right;\">\n",
       "      <th></th>\n",
       "      <th>text</th>\n",
       "      <th>label</th>\n",
       "      <th>label_int</th>\n",
       "      <th>science_int</th>\n",
       "      <th>sports_int</th>\n",
       "      <th>world_int</th>\n",
       "      <th>business_int</th>\n",
       "    </tr>\n",
       "  </thead>\n",
       "  <tbody>\n",
       "    <tr>\n",
       "      <th>0</th>\n",
       "      <td>It #39;s over. Our relationship just hasn #39;...</td>\n",
       "      <td>Science</td>\n",
       "      <td>0</td>\n",
       "      <td>1</td>\n",
       "      <td>0</td>\n",
       "      <td>0</td>\n",
       "      <td>0</td>\n",
       "    </tr>\n",
       "    <tr>\n",
       "      <th>1</th>\n",
       "      <td>Toshiba Corp. announced Tuesday a 80 gigabyte ...</td>\n",
       "      <td>Science</td>\n",
       "      <td>0</td>\n",
       "      <td>1</td>\n",
       "      <td>0</td>\n",
       "      <td>0</td>\n",
       "      <td>0</td>\n",
       "    </tr>\n",
       "    <tr>\n",
       "      <th>2</th>\n",
       "      <td>Scientists go back to the drawing board in the...</td>\n",
       "      <td>Science</td>\n",
       "      <td>0</td>\n",
       "      <td>1</td>\n",
       "      <td>0</td>\n",
       "      <td>0</td>\n",
       "      <td>0</td>\n",
       "    </tr>\n",
       "    <tr>\n",
       "      <th>3</th>\n",
       "      <td>The first shuttle flight since the Columbia tr...</td>\n",
       "      <td>Science</td>\n",
       "      <td>0</td>\n",
       "      <td>1</td>\n",
       "      <td>0</td>\n",
       "      <td>0</td>\n",
       "      <td>0</td>\n",
       "    </tr>\n",
       "    <tr>\n",
       "      <th>4</th>\n",
       "      <td>NEW YORK, Sept 21: Iraqi Prime Minister Iyad A...</td>\n",
       "      <td>World</td>\n",
       "      <td>2</td>\n",
       "      <td>0</td>\n",
       "      <td>0</td>\n",
       "      <td>1</td>\n",
       "      <td>0</td>\n",
       "    </tr>\n",
       "  </tbody>\n",
       "</table>\n",
       "</div>"
      ],
      "text/plain": [
       "                                                text    label  label_int  \\\n",
       "0  It #39;s over. Our relationship just hasn #39;...  Science          0   \n",
       "1  Toshiba Corp. announced Tuesday a 80 gigabyte ...  Science          0   \n",
       "2  Scientists go back to the drawing board in the...  Science          0   \n",
       "3  The first shuttle flight since the Columbia tr...  Science          0   \n",
       "4  NEW YORK, Sept 21: Iraqi Prime Minister Iyad A...    World          2   \n",
       "\n",
       "   science_int  sports_int  world_int  business_int  \n",
       "0            1           0          0             0  \n",
       "1            1           0          0             0  \n",
       "2            1           0          0             0  \n",
       "3            1           0          0             0  \n",
       "4            0           0          1             0  "
      ]
     },
     "execution_count": 8,
     "metadata": {},
     "output_type": "execute_result"
    }
   ],
   "source": [
    "test_df.head()"
   ]
  },
  {
   "cell_type": "code",
   "execution_count": 6,
   "metadata": {},
   "outputs": [
    {
     "data": {
      "text/html": [
       "<div>\n",
       "<style scoped>\n",
       "    .dataframe tbody tr th:only-of-type {\n",
       "        vertical-align: middle;\n",
       "    }\n",
       "\n",
       "    .dataframe tbody tr th {\n",
       "        vertical-align: top;\n",
       "    }\n",
       "\n",
       "    .dataframe thead th {\n",
       "        text-align: right;\n",
       "    }\n",
       "</style>\n",
       "<table border=\"1\" class=\"dataframe\">\n",
       "  <thead>\n",
       "    <tr style=\"text-align: right;\">\n",
       "      <th></th>\n",
       "      <th>label_int</th>\n",
       "      <th>science_int</th>\n",
       "      <th>sports_int</th>\n",
       "      <th>world_int</th>\n",
       "      <th>business_int</th>\n",
       "    </tr>\n",
       "  </thead>\n",
       "  <tbody>\n",
       "    <tr>\n",
       "      <th>count</th>\n",
       "      <td>10000.000000</td>\n",
       "      <td>10000.00000</td>\n",
       "      <td>10000.000000</td>\n",
       "      <td>10000.000000</td>\n",
       "      <td>10000.000000</td>\n",
       "    </tr>\n",
       "    <tr>\n",
       "      <th>mean</th>\n",
       "      <td>1.496400</td>\n",
       "      <td>0.25370</td>\n",
       "      <td>0.245800</td>\n",
       "      <td>0.250900</td>\n",
       "      <td>0.249600</td>\n",
       "    </tr>\n",
       "    <tr>\n",
       "      <th>std</th>\n",
       "      <td>1.121032</td>\n",
       "      <td>0.43515</td>\n",
       "      <td>0.430582</td>\n",
       "      <td>0.433553</td>\n",
       "      <td>0.432803</td>\n",
       "    </tr>\n",
       "    <tr>\n",
       "      <th>min</th>\n",
       "      <td>0.000000</td>\n",
       "      <td>0.00000</td>\n",
       "      <td>0.000000</td>\n",
       "      <td>0.000000</td>\n",
       "      <td>0.000000</td>\n",
       "    </tr>\n",
       "    <tr>\n",
       "      <th>25%</th>\n",
       "      <td>0.000000</td>\n",
       "      <td>0.00000</td>\n",
       "      <td>0.000000</td>\n",
       "      <td>0.000000</td>\n",
       "      <td>0.000000</td>\n",
       "    </tr>\n",
       "    <tr>\n",
       "      <th>50%</th>\n",
       "      <td>2.000000</td>\n",
       "      <td>0.00000</td>\n",
       "      <td>0.000000</td>\n",
       "      <td>0.000000</td>\n",
       "      <td>0.000000</td>\n",
       "    </tr>\n",
       "    <tr>\n",
       "      <th>75%</th>\n",
       "      <td>2.000000</td>\n",
       "      <td>1.00000</td>\n",
       "      <td>0.000000</td>\n",
       "      <td>1.000000</td>\n",
       "      <td>0.000000</td>\n",
       "    </tr>\n",
       "    <tr>\n",
       "      <th>max</th>\n",
       "      <td>3.000000</td>\n",
       "      <td>1.00000</td>\n",
       "      <td>1.000000</td>\n",
       "      <td>1.000000</td>\n",
       "      <td>1.000000</td>\n",
       "    </tr>\n",
       "  </tbody>\n",
       "</table>\n",
       "</div>"
      ],
      "text/plain": [
       "          label_int  science_int    sports_int     world_int  business_int\n",
       "count  10000.000000  10000.00000  10000.000000  10000.000000  10000.000000\n",
       "mean       1.496400      0.25370      0.245800      0.250900      0.249600\n",
       "std        1.121032      0.43515      0.430582      0.433553      0.432803\n",
       "min        0.000000      0.00000      0.000000      0.000000      0.000000\n",
       "25%        0.000000      0.00000      0.000000      0.000000      0.000000\n",
       "50%        2.000000      0.00000      0.000000      0.000000      0.000000\n",
       "75%        2.000000      1.00000      0.000000      1.000000      0.000000\n",
       "max        3.000000      1.00000      1.000000      1.000000      1.000000"
      ]
     },
     "execution_count": 6,
     "metadata": {},
     "output_type": "execute_result"
    }
   ],
   "source": [
    "test_df.describe()"
   ]
  },
  {
   "cell_type": "markdown",
   "metadata": {},
   "source": [
    "We have an almost perfectly balanced dataset, and the distribution is similar accross training and testing set."
   ]
  },
  {
   "cell_type": "markdown",
   "metadata": {},
   "source": [
    "## First models"
   ]
  },
  {
   "cell_type": "markdown",
   "metadata": {},
   "source": [
    "In this section, we are going to train 4 binary calssifiers, one for each label, and see how they perform. Therefore, let's only keep the text_column and the corresponding label column for each of the four labels."
   ]
  },
  {
   "cell_type": "code",
   "execution_count": 12,
   "metadata": {},
   "outputs": [],
   "source": [
    "science_tr_df = train_df[['text', 'science_int']]\n",
    "sports_tr_df = train_df[['text', 'sports_int']]\n",
    "world_tr_df = train_df[['text', 'world_int']]\n",
    "business_tr_df = train_df[['text', 'business_int']]\n",
    "\n",
    "science_ts_df = test_df[['text', 'science_int']]\n",
    "sports_ts_df = test_df[['text', 'sports_int']]\n",
    "world_ts_df = test_df[['text', 'world_int']]\n",
    "business_ts_df = test_df[['text', 'business_int']]"
   ]
  },
  {
   "cell_type": "markdown",
   "metadata": {},
   "source": [
    "Let's start with comparing classifiers for the science articles, we are going to compare two different classifiers, a naive bayes classifier and an SDG-based classifier and compare both their performance"
   ]
  },
  {
   "cell_type": "markdown",
   "metadata": {},
   "source": [
    "First, let's import the necessary functions"
   ]
  },
  {
   "cell_type": "code",
   "execution_count": 13,
   "metadata": {},
   "outputs": [],
   "source": [
    "from sklearn.pipeline import Pipeline\n",
    "from sklearn.feature_extraction.text import CountVectorizer, TfidfTransformer\n",
    "from sklearn.naive_bayes import MultinomialNB\n",
    "from sklearn.linear_model import SGDClassifier"
   ]
  },
  {
   "cell_type": "markdown",
   "metadata": {},
   "source": [
    "Then, let's concatenate the necessary steps in a pipeline"
   ]
  },
  {
   "cell_type": "code",
   "execution_count": 16,
   "metadata": {},
   "outputs": [],
   "source": [
    "science_nb = Pipeline([\n",
    "    ('vect', CountVectorizer()),\n",
    "    ('tfidf', TfidfTransformer()),\n",
    "    ('clf', MultinomialNB())\n",
    "])"
   ]
  },
  {
   "cell_type": "markdown",
   "metadata": {},
   "source": [
    "Train the first model"
   ]
  },
  {
   "cell_type": "code",
   "execution_count": 17,
   "metadata": {},
   "outputs": [
    {
     "data": {
      "text/plain": [
       "Pipeline(steps=[('vect', CountVectorizer()), ('tfidf', TfidfTransformer()),\n",
       "                ('clf', MultinomialNB())])"
      ]
     },
     "execution_count": 17,
     "metadata": {},
     "output_type": "execute_result"
    }
   ],
   "source": [
    "science_nb.fit(science_tr_df.text, science_tr_df.science_int)"
   ]
  },
  {
   "cell_type": "markdown",
   "metadata": {},
   "source": [
    "Predict the test data with the model in order to be able to perform evaluation"
   ]
  },
  {
   "cell_type": "code",
   "execution_count": 18,
   "metadata": {},
   "outputs": [],
   "source": [
    "science_nb_prediction = science_nb.predict(science_ts_df.text)"
   ]
  },
  {
   "cell_type": "markdown",
   "metadata": {},
   "source": [
    "Let's see how the model performs"
   ]
  },
  {
   "cell_type": "code",
   "execution_count": 19,
   "metadata": {},
   "outputs": [
    {
     "name": "stdout",
     "output_type": "stream",
     "text": [
      "              precision    recall  f1-score   support\n",
      "\n",
      "           0       0.92      0.98      0.95      7463\n",
      "           1       0.91      0.76      0.83      2537\n",
      "\n",
      "    accuracy                           0.92     10000\n",
      "   macro avg       0.92      0.87      0.89     10000\n",
      "weighted avg       0.92      0.92      0.92     10000\n",
      "\n"
     ]
    }
   ],
   "source": [
    "print(classification_report(science_ts_df.science_int,\n",
    "                           science_nb_prediction))"
   ]
  },
  {
   "cell_type": "markdown",
   "metadata": {},
   "source": [
    "The model is quite precise on both classes, however, the recall on the positive class is quite lower than the recall of the negative class, meaning the model still recognizes the negative class (news articles not related to sports) way better than the positive class (news articles related to sports)."
   ]
  },
  {
   "cell_type": "markdown",
   "metadata": {},
   "source": [
    "Let's perform the same steps for an SDG-classifier and see if it performs better."
   ]
  },
  {
   "cell_type": "code",
   "execution_count": 27,
   "metadata": {},
   "outputs": [
    {
     "name": "stdout",
     "output_type": "stream",
     "text": [
      "              precision    recall  f1-score   support\n",
      "\n",
      "           0       0.95      0.96      0.95      7463\n",
      "           1       0.87      0.86      0.86      2537\n",
      "\n",
      "    accuracy                           0.93     10000\n",
      "   macro avg       0.91      0.91      0.91     10000\n",
      "weighted avg       0.93      0.93      0.93     10000\n",
      "\n"
     ]
    }
   ],
   "source": [
    "science_sgd = Pipeline([\n",
    "    ('vect', CountVectorizer()),\n",
    "    ('tfidf', TfidfTransformer()),\n",
    "    ('clf', SGDClassifier(loss='hinge', penalty='l2',\n",
    "                          alpha=1e-6, random_state=42,\n",
    "                          max_iter=100, tol=None))\n",
    "])\n",
    "\n",
    "science_sgd.fit(science_tr_df.text, science_tr_df.science_int)\n",
    "\n",
    "science_sgd_prediction = science_sgd.predict(science_ts_df.text)\n",
    "\n",
    "print(classification_report(science_ts_df.science_int,\n",
    "                           science_sgd_prediction))"
   ]
  },
  {
   "cell_type": "markdown",
   "metadata": {},
   "source": [
    "So, with the SDG classifier the recall in fact went up for the positive class went up by ten percentage points, but as a tradeoff the precision decreased by 4 percentage points."
   ]
  },
  {
   "cell_type": "markdown",
   "metadata": {},
   "source": [
    "Let's repeat the same steps for the other 3 categories"
   ]
  },
  {
   "cell_type": "code",
   "execution_count": 23,
   "metadata": {},
   "outputs": [],
   "source": [
    "def make_sklearn_sgd():\n",
    "    classifier = Pipeline([\n",
    "        ('vect', CountVectorizer()),\n",
    "        ('tfidf', TfidfTransformer()),\n",
    "        ('clf', SGDClassifier(loss='hinge', penalty='l2',\n",
    "                              alpha=1e-3, random_state=42,\n",
    "                              max_iter=5, tol=None)),\n",
    "    ])\n",
    "    return classifier"
   ]
  },
  {
   "cell_type": "code",
   "execution_count": 22,
   "metadata": {},
   "outputs": [],
   "source": [
    "def make_sklearn_naive_bayes():\n",
    "    classifier = Pipeline([\n",
    "        ('vect', CountVectorizer()),\n",
    "        ('tfidf', TfidfTransformer()),\n",
    "        ('clf', MultinomialNB()),\n",
    "    ])\n",
    "    return classifier"
   ]
  },
  {
   "cell_type": "code",
   "execution_count": 29,
   "metadata": {},
   "outputs": [],
   "source": [
    "sports_nb = make_sklearn_naive_bayes()\n",
    "sports_sgd = make_sklearn_sgd()\n",
    "world_nb = make_sklearn_naive_bayes()\n",
    "world_sgd = make_sklearn_sgd()\n",
    "business_nb = make_sklearn_naive_bayes()\n",
    "business_sgd = make_sklearn_sgd()"
   ]
  },
  {
   "cell_type": "code",
   "execution_count": 30,
   "metadata": {},
   "outputs": [
    {
     "data": {
      "text/plain": [
       "Pipeline(steps=[('vect', CountVectorizer()), ('tfidf', TfidfTransformer()),\n",
       "                ('clf',\n",
       "                 SGDClassifier(alpha=0.001, max_iter=5, random_state=42,\n",
       "                               tol=None))])"
      ]
     },
     "execution_count": 30,
     "metadata": {},
     "output_type": "execute_result"
    }
   ],
   "source": [
    "sports_nb.fit(sports_tr_df.text, sports_tr_df.sports_int)\n",
    "sports_sgd.fit(sports_tr_df.text, sports_tr_df.sports_int)\n",
    "world_nb.fit(world_tr_df.text, world_tr_df.world_int)\n",
    "world_sgd.fit(world_tr_df.text, world_tr_df.world_int)\n",
    "business_nb.fit(business_tr_df.text, business_tr_df.business_int)\n",
    "business_sgd.fit(business_tr_df.text, business_tr_df.business_int)"
   ]
  },
  {
   "cell_type": "code",
   "execution_count": 32,
   "metadata": {},
   "outputs": [],
   "source": [
    "sports_sgd_prediction = sports_sgd.predict(sports_ts_df.text)\n",
    "sports_nb_prediction = sports_nb.predict(sports_ts_df.text)\n",
    "world_sgd_prediction = world_sgd.predict(world_ts_df.text)\n",
    "world_nb_prediction = world_nb.predict(world_ts_df.text)\n",
    "business_sgd_prediction = business_sgd.predict(business_ts_df.text)\n",
    "business_nb_prediction = business_nb.predict(business_ts_df.text)"
   ]
  },
  {
   "cell_type": "code",
   "execution_count": 34,
   "metadata": {},
   "outputs": [
    {
     "name": "stdout",
     "output_type": "stream",
     "text": [
      "              precision    recall  f1-score   support\n",
      "\n",
      "           0       0.98      0.99      0.99      7542\n",
      "           1       0.97      0.94      0.95      2458\n",
      "\n",
      "    accuracy                           0.98     10000\n",
      "   macro avg       0.97      0.96      0.97     10000\n",
      "weighted avg       0.98      0.98      0.98     10000\n",
      "\n",
      "              precision    recall  f1-score   support\n",
      "\n",
      "           0       0.90      0.99      0.95      7542\n",
      "           1       0.97      0.67      0.79      2458\n",
      "\n",
      "    accuracy                           0.91     10000\n",
      "   macro avg       0.94      0.83      0.87     10000\n",
      "weighted avg       0.92      0.91      0.91     10000\n",
      "\n"
     ]
    }
   ],
   "source": [
    "print(classification_report(sports_ts_df.sports_int,\n",
    "                           sports_nb_prediction))\n",
    "print(classification_report(sports_ts_df.sports_int,\n",
    "                           sports_sgd_prediction))"
   ]
  },
  {
   "cell_type": "markdown",
   "metadata": {},
   "source": [
    "Interestingly, for the sports articles the naive bayes classifier does a much better job in terms of recall for the positive class. (maybe dive into the models in order to understand why)"
   ]
  },
  {
   "cell_type": "code",
   "execution_count": 35,
   "metadata": {},
   "outputs": [
    {
     "name": "stdout",
     "output_type": "stream",
     "text": [
      "              precision    recall  f1-score   support\n",
      "\n",
      "           0       0.94      0.99      0.96      7491\n",
      "           1       0.95      0.82      0.88      2509\n",
      "\n",
      "    accuracy                           0.94     10000\n",
      "   macro avg       0.94      0.90      0.92     10000\n",
      "weighted avg       0.94      0.94      0.94     10000\n",
      "\n",
      "              precision    recall  f1-score   support\n",
      "\n",
      "           0       0.86      1.00      0.92      7491\n",
      "           1       0.98      0.50      0.66      2509\n",
      "\n",
      "    accuracy                           0.87     10000\n",
      "   macro avg       0.92      0.75      0.79     10000\n",
      "weighted avg       0.89      0.87      0.85     10000\n",
      "\n"
     ]
    }
   ],
   "source": [
    "print(classification_report(world_ts_df.world_int,\n",
    "                           world_nb_prediction))\n",
    "print(classification_report(world_ts_df.world_int,\n",
    "                           world_sgd_prediction))"
   ]
  },
  {
   "cell_type": "markdown",
   "metadata": {},
   "source": [
    "The same goes for the world articles, the naive bayes classifier does a much better job in terms of recall. Moreover, here the SGD-based classifier has a recall of 1, which may be a sign of overfitting."
   ]
  },
  {
   "cell_type": "code",
   "execution_count": 36,
   "metadata": {},
   "outputs": [
    {
     "name": "stdout",
     "output_type": "stream",
     "text": [
      "              precision    recall  f1-score   support\n",
      "\n",
      "           0       0.92      0.97      0.95      7504\n",
      "           1       0.89      0.76      0.82      2496\n",
      "\n",
      "    accuracy                           0.92     10000\n",
      "   macro avg       0.91      0.87      0.88     10000\n",
      "weighted avg       0.92      0.92      0.91     10000\n",
      "\n",
      "              precision    recall  f1-score   support\n",
      "\n",
      "           0       0.84      0.99      0.91      7504\n",
      "           1       0.92      0.43      0.59      2496\n",
      "\n",
      "    accuracy                           0.85     10000\n",
      "   macro avg       0.88      0.71      0.75     10000\n",
      "weighted avg       0.86      0.85      0.83     10000\n",
      "\n"
     ]
    }
   ],
   "source": [
    "print(classification_report(business_ts_df.business_int,\n",
    "                           business_nb_prediction))\n",
    "print(classification_report(business_ts_df.business_int,\n",
    "                           business_sgd_prediction))"
   ]
  },
  {
   "cell_type": "markdown",
   "metadata": {},
   "source": [
    "Finally, for the business articles, the naive bayes classifier also performs significantly better than the SGD-based classifier, especially on the recall."
   ]
  },
  {
   "cell_type": "markdown",
   "metadata": {},
   "source": [
    "## Model refinement and hyperparameter tuning"
   ]
  },
  {
   "cell_type": "markdown",
   "metadata": {},
   "source": [
    "Let's try to fine tune our model parameters, more specifically by trying out bag of n-grams for various n. In order to experiment, let's move back to the first classifier for science articles."
   ]
  },
  {
   "cell_type": "code",
   "execution_count": 37,
   "metadata": {},
   "outputs": [],
   "source": [
    "from sklearn.model_selection import GridSearchCV"
   ]
  },
  {
   "cell_type": "markdown",
   "metadata": {},
   "source": [
    "Without specifying the type of n-gram, the SGD-based classifier worked best in the previous section. So, let's experiment with this type of classifier."
   ]
  },
  {
   "cell_type": "code",
   "execution_count": 38,
   "metadata": {},
   "outputs": [],
   "source": [
    "sgd_science_grid_estimator = Pipeline([\n",
    "    ('vect', CountVectorizer()),\n",
    "    ('tfidf', TfidfTransformer(use_idf=True)),\n",
    "    ('clf', SGDClassifier(loss='hinge', penalty='l2', random_state=42,max_iter=100, tol=None)),\n",
    "])\n",
    "\n",
    "sgd_grid_parameters = {\n",
    "    'vect__ngram_range': [(1, 1), (1, 2), (1,3)],\n",
    "    'clf__alpha': (1e-3, 1e-6, 1e-9, 1e-12)\n",
    "}\n",
    "\n",
    "sgd_science_grid= GridSearchCV(sgd_science_grid_estimator, sgd_grid_parameters, verbose=1)"
   ]
  },
  {
   "cell_type": "code",
   "execution_count": 39,
   "metadata": {},
   "outputs": [
    {
     "name": "stdout",
     "output_type": "stream",
     "text": [
      "Fitting 5 folds for each of 12 candidates, totalling 60 fits\n"
     ]
    },
    {
     "name": "stderr",
     "output_type": "stream",
     "text": [
      "[Parallel(n_jobs=1)]: Using backend SequentialBackend with 1 concurrent workers.\n",
      "[Parallel(n_jobs=1)]: Done  60 out of  60 | elapsed: 22.4min finished\n"
     ]
    },
    {
     "data": {
      "text/plain": [
       "GridSearchCV(estimator=Pipeline(steps=[('vect', CountVectorizer()),\n",
       "                                       ('tfidf', TfidfTransformer()),\n",
       "                                       ('clf',\n",
       "                                        SGDClassifier(max_iter=100,\n",
       "                                                      random_state=42,\n",
       "                                                      tol=None))]),\n",
       "             param_grid={'clf__alpha': (0.001, 1e-06, 1e-09, 1e-12),\n",
       "                         'vect__ngram_range': [(1, 1), (1, 2), (1, 3)]},\n",
       "             verbose=1)"
      ]
     },
     "execution_count": 39,
     "metadata": {},
     "output_type": "execute_result"
    }
   ],
   "source": [
    "sgd_science_grid.fit(science_tr_df.text, science_tr_df.science_int)"
   ]
  },
  {
   "cell_type": "markdown",
   "metadata": {},
   "source": [
    "Let's have a look at the best parameters"
   ]
  },
  {
   "cell_type": "code",
   "execution_count": 41,
   "metadata": {},
   "outputs": [
    {
     "data": {
      "text/plain": [
       "{'clf__alpha': 1e-06, 'vect__ngram_range': (1, 3)}"
      ]
     },
     "execution_count": 41,
     "metadata": {},
     "output_type": "execute_result"
    }
   ],
   "source": [
    "sgd_science_grid.best_params_"
   ]
  },
  {
   "cell_type": "markdown",
   "metadata": {},
   "source": [
    "Ok now let's see how the best model performs against the model we trained in the previous section"
   ]
  },
  {
   "cell_type": "code",
   "execution_count": 42,
   "metadata": {},
   "outputs": [],
   "source": [
    "sgd_science_best = sgd_science_grid.best_estimator_"
   ]
  },
  {
   "cell_type": "code",
   "execution_count": 43,
   "metadata": {},
   "outputs": [
    {
     "name": "stdout",
     "output_type": "stream",
     "text": [
      "              precision    recall  f1-score   support\n",
      "\n",
      "           0       0.96      0.96      0.96      7463\n",
      "           1       0.89      0.88      0.88      2537\n",
      "\n",
      "    accuracy                           0.94     10000\n",
      "   macro avg       0.92      0.92      0.92     10000\n",
      "weighted avg       0.94      0.94      0.94     10000\n",
      "\n"
     ]
    }
   ],
   "source": [
    "print(classification_report(science_ts_df.science_int,\n",
    "                           sgd_science_best.predict(science_ts_df.text)))"
   ]
  },
  {
   "cell_type": "markdown",
   "metadata": {},
   "source": [
    "Ok, so we have a slight improvement of 2 percentage points on the precision for the positive class and of 2 percentage points on the recall for the positive class. That is interesting, but not astonishing. Let's try to improve the model further by optimizing the model taking in bigger bags of words and setting alpha to 1e-06, in order to reduce training time. Aditionally let's allow gridsearch to perform several jobs in parallel, to further reduce training time."
   ]
  },
  {
   "cell_type": "code",
   "execution_count": 45,
   "metadata": {},
   "outputs": [],
   "source": [
    "sgd_science_grid_estimator_2 = Pipeline([\n",
    "    ('vect', CountVectorizer()),\n",
    "    ('tfidf', TfidfTransformer(use_idf=True)),\n",
    "    ('clf', SGDClassifier(loss='hinge', penalty='l2', random_state=42,max_iter=100, tol=None, alpha = 1e-6)),\n",
    "])\n",
    "\n",
    "sgd_grid_parameters_2 = {\n",
    "    'vect__ngram_range': [(1,3),(1,4),(1,5)]\n",
    "}\n",
    "\n",
    "sgd_science_grid_2 = GridSearchCV(sgd_science_grid_estimator_2, sgd_grid_parameters_2, verbose=1, n_jobs = 4)"
   ]
  },
  {
   "cell_type": "code",
   "execution_count": 46,
   "metadata": {},
   "outputs": [
    {
     "name": "stdout",
     "output_type": "stream",
     "text": [
      "Fitting 5 folds for each of 3 candidates, totalling 15 fits\n"
     ]
    },
    {
     "name": "stderr",
     "output_type": "stream",
     "text": [
      "[Parallel(n_jobs=4)]: Using backend LokyBackend with 4 concurrent workers.\n",
      "[Parallel(n_jobs=4)]: Done  15 out of  15 | elapsed:  7.8min finished\n"
     ]
    },
    {
     "data": {
      "text/plain": [
       "GridSearchCV(estimator=Pipeline(steps=[('vect', CountVectorizer()),\n",
       "                                       ('tfidf', TfidfTransformer()),\n",
       "                                       ('clf',\n",
       "                                        SGDClassifier(alpha=1e-06, max_iter=100,\n",
       "                                                      random_state=42,\n",
       "                                                      tol=None))]),\n",
       "             n_jobs=4,\n",
       "             param_grid={'vect__ngram_range': [(1, 3), (1, 4), (1, 5)]},\n",
       "             verbose=1)"
      ]
     },
     "execution_count": 46,
     "metadata": {},
     "output_type": "execute_result"
    }
   ],
   "source": [
    "sgd_science_grid_2.fit(science_tr_df.text, science_tr_df.science_int)"
   ]
  },
  {
   "cell_type": "code",
   "execution_count": 48,
   "metadata": {},
   "outputs": [
    {
     "data": {
      "text/plain": [
       "{'vect__ngram_range': (1, 4)}"
      ]
     },
     "execution_count": 48,
     "metadata": {},
     "output_type": "execute_result"
    }
   ],
   "source": [
    "sgd_science_grid_2.best_params_"
   ]
  },
  {
   "cell_type": "code",
   "execution_count": 50,
   "metadata": {},
   "outputs": [],
   "source": [
    "sgd_science_best_2 = sgd_science_grid_2.best_estimator_"
   ]
  },
  {
   "cell_type": "code",
   "execution_count": 51,
   "metadata": {},
   "outputs": [
    {
     "name": "stdout",
     "output_type": "stream",
     "text": [
      "              precision    recall  f1-score   support\n",
      "\n",
      "           0       0.96      0.96      0.96      7463\n",
      "           1       0.89      0.88      0.89      2537\n",
      "\n",
      "    accuracy                           0.94     10000\n",
      "   macro avg       0.92      0.92      0.92     10000\n",
      "weighted avg       0.94      0.94      0.94     10000\n",
      "\n"
     ]
    }
   ],
   "source": [
    "print(classification_report(science_ts_df.science_int,\n",
    "                           sgd_science_best_2.predict(science_ts_df.text)))"
   ]
  },
  {
   "cell_type": "markdown",
   "metadata": {},
   "source": [
    "Well, this didn't really improve the model performance compared to the one we trained with the 3-gram. Depending on the applications of the model, it would be nice to have a recall above 90% for the positive class. let's try to increase the recall of the model by modifying the decision threshold of the model. But before, let's have a look at the precision / recall curve of the model."
   ]
  },
  {
   "cell_type": "code",
   "execution_count": 52,
   "metadata": {},
   "outputs": [],
   "source": [
    "import matplotlib.pyplot as plt\n",
    "import numpy as np"
   ]
  },
  {
   "cell_type": "code",
   "execution_count": 53,
   "metadata": {},
   "outputs": [],
   "source": [
    "pr_sgd_science = sklearn.metrics.precision_recall_curve(science_ts_df.science_int, sgd_science_best_2.decision_function(science_ts_df.text),pos_label=1)\n"
   ]
  },
  {
   "cell_type": "code",
   "execution_count": 55,
   "metadata": {},
   "outputs": [
    {
     "data": {
      "image/png": "[encoded data removed]",
      "text/plain": [
       "<Figure size 720x720 with 1 Axes>"
      ]
     },
     "metadata": {
      "needs_background": "light"
     },
     "output_type": "display_data"
    }
   ],
   "source": [
    "plt.figure(figsize=(10,10))\n",
    "plt.title('Precision-Recall curve')\n",
    "plt.xlabel('precision')\n",
    "plt.ylabel('recall')\n",
    "plt.scatter(y=pr_sgd_science[0], x=pr_sgd_science[1])\n",
    "plt.grid(True)"
   ]
  },
  {
   "cell_type": "markdown",
   "metadata": {},
   "source": [
    "That looks a bit unfortunate, it seems like if we push the threshold to have a recall of more than 90%, our precision drops below 90%. In practical terms this would mean that at least 9 science articles out of 10 are correctly labeled as science articles, but out of 10 articles labeled as science article, less than 9 would actually correspond to science articles."
   ]
  },
  {
   "cell_type": "markdown",
   "metadata": {},
   "source": [
    "Nevertheless, let's play a bit with the threshold in order to see how close we can get."
   ]
  },
  {
   "cell_type": "code",
   "execution_count": 61,
   "metadata": {},
   "outputs": [
    {
     "name": "stdout",
     "output_type": "stream",
     "text": [
      "Metrics with threshold=-1\n",
      "              precision    recall  f1-score   support\n",
      "\n",
      "           0       0.99      0.77      0.87      7463\n",
      "           1       0.60      0.99      0.75      2537\n",
      "\n",
      "    accuracy                           0.83     10000\n",
      "   macro avg       0.80      0.88      0.81     10000\n",
      "weighted avg       0.89      0.83      0.84     10000\n",
      "\n",
      "\n",
      "Metrics with threshold=-0.8\n",
      "              precision    recall  f1-score   support\n",
      "\n",
      "           0       0.99      0.86      0.92      7463\n",
      "           1       0.70      0.97      0.81      2537\n",
      "\n",
      "    accuracy                           0.89     10000\n",
      "   macro avg       0.84      0.91      0.87     10000\n",
      "weighted avg       0.92      0.89      0.89     10000\n",
      "\n",
      "\n",
      "Metrics with threshold=-0.5\n",
      "              precision    recall  f1-score   support\n",
      "\n",
      "           0       0.98      0.92      0.95      7463\n",
      "           1       0.80      0.95      0.87      2537\n",
      "\n",
      "    accuracy                           0.93     10000\n",
      "   macro avg       0.89      0.93      0.91     10000\n",
      "weighted avg       0.93      0.93      0.93     10000\n",
      "\n",
      "\n",
      "Metrics with threshold=-0.2\n",
      "              precision    recall  f1-score   support\n",
      "\n",
      "           0       0.97      0.95      0.96      7463\n",
      "           1       0.86      0.91      0.89      2537\n",
      "\n",
      "    accuracy                           0.94     10000\n",
      "   macro avg       0.92      0.93      0.92     10000\n",
      "weighted avg       0.94      0.94      0.94     10000\n",
      "\n",
      "\n",
      "Metrics with threshold=0\n",
      "              precision    recall  f1-score   support\n",
      "\n",
      "           0       0.96      0.96      0.96      7463\n",
      "           1       0.89      0.88      0.89      2537\n",
      "\n",
      "    accuracy                           0.94     10000\n",
      "   macro avg       0.92      0.92      0.92     10000\n",
      "weighted avg       0.94      0.94      0.94     10000\n",
      "\n",
      "\n",
      "Metrics with threshold=0.2\n",
      "              precision    recall  f1-score   support\n",
      "\n",
      "           0       0.95      0.97      0.96      7463\n",
      "           1       0.90      0.85      0.88      2537\n",
      "\n",
      "    accuracy                           0.94     10000\n",
      "   macro avg       0.93      0.91      0.92     10000\n",
      "weighted avg       0.94      0.94      0.94     10000\n",
      "\n",
      "\n",
      "Metrics with threshold=0.5\n",
      "              precision    recall  f1-score   support\n",
      "\n",
      "           0       0.93      0.98      0.95      7463\n",
      "           1       0.92      0.78      0.85      2537\n",
      "\n",
      "    accuracy                           0.93     10000\n",
      "   macro avg       0.93      0.88      0.90     10000\n",
      "weighted avg       0.93      0.93      0.93     10000\n",
      "\n",
      "\n",
      "Metrics with threshold=0.8\n",
      "              precision    recall  f1-score   support\n",
      "\n",
      "           0       0.90      0.99      0.94      7463\n",
      "           1       0.94      0.68      0.79      2537\n",
      "\n",
      "    accuracy                           0.91     10000\n",
      "   macro avg       0.92      0.83      0.86     10000\n",
      "weighted avg       0.91      0.91      0.90     10000\n",
      "\n",
      "\n",
      "Metrics with threshold=1\n",
      "              precision    recall  f1-score   support\n",
      "\n",
      "           0       0.88      0.99      0.93      7463\n",
      "           1       0.95      0.59      0.73      2537\n",
      "\n",
      "    accuracy                           0.89     10000\n",
      "   macro avg       0.91      0.79      0.83     10000\n",
      "weighted avg       0.90      0.89      0.88     10000\n",
      "\n",
      "\n"
     ]
    }
   ],
   "source": [
    "test_scores = sgd_science_best_2.decision_function(science_ts_df.text)\n",
    "\n",
    "for threshold in [-1, -0.8, -0.5,-0.2, 0 ,0.2, 0.5, 0.8, 1]:\n",
    "    print(\"Metrics with threshold={}\".format(threshold))\n",
    "    print(classification_report(science_ts_df.science_int,\n",
    "                                [1 if s>threshold else 0 for s in test_scores],))\n",
    "    print()"
   ]
  },
  {
   "cell_type": "markdown",
   "metadata": {},
   "source": [
    "The tradeoff between recall and accuracy remains, it is very hard to find an optimum."
   ]
  },
  {
   "cell_type": "markdown",
   "metadata": {},
   "source": [
    "Let's replicate the same steps for the 3 other classifiers, focusing on the naive bayes classifier since it performed best in the first place, and see how far we can push the performance."
   ]
  },
  {
   "cell_type": "code",
   "execution_count": 65,
   "metadata": {},
   "outputs": [],
   "source": [
    "nb_sports_grid_estimator = make_sklearn_naive_bayes()\n",
    "nb_world_grid_estimator = make_sklearn_naive_bayes()\n",
    "nb_business_grid_estimator = make_sklearn_naive_bayes()\n",
    "\n",
    "nb_grid_parameters = {\n",
    "    'vect__ngram_range': [(1, 2), (1,3),(1,4)],\n",
    "    'clf__alpha': (1e-3, 1e-6, 1e-9)\n",
    "}\n",
    "\n",
    "nb_sports_grid= GridSearchCV(nb_sports_grid_estimator, nb_grid_parameters, verbose=1, n_jobs=5)\n",
    "nb_world_grid= GridSearchCV(nb_world_grid_estimator, nb_grid_parameters, verbose=1, n_jobs=5)\n",
    "nb_business_grid= GridSearchCV(nb_business_grid_estimator, nb_grid_parameters, verbose=1, n_jobs=5)"
   ]
  },
  {
   "cell_type": "code",
   "execution_count": 66,
   "metadata": {},
   "outputs": [
    {
     "name": "stdout",
     "output_type": "stream",
     "text": [
      "Fitting 5 folds for each of 9 candidates, totalling 45 fits\n"
     ]
    },
    {
     "name": "stderr",
     "output_type": "stream",
     "text": [
      "[Parallel(n_jobs=5)]: Using backend LokyBackend with 5 concurrent workers.\n",
      "[Parallel(n_jobs=5)]: Done  45 out of  45 | elapsed: 12.7min finished\n"
     ]
    },
    {
     "data": {
      "text/plain": [
       "GridSearchCV(estimator=Pipeline(steps=[('vect', CountVectorizer()),\n",
       "                                       ('tfidf', TfidfTransformer()),\n",
       "                                       ('clf', MultinomialNB())]),\n",
       "             n_jobs=5,\n",
       "             param_grid={'clf__alpha': (0.001, 1e-06, 1e-09),\n",
       "                         'vect__ngram_range': [(1, 2), (1, 3), (1, 4)]},\n",
       "             verbose=1)"
      ]
     },
     "execution_count": 66,
     "metadata": {},
     "output_type": "execute_result"
    }
   ],
   "source": [
    "nb_sports_grid.fit(sports_tr_df.text, sports_tr_df.sports_int)"
   ]
  },
  {
   "cell_type": "code",
   "execution_count": 67,
   "metadata": {},
   "outputs": [
    {
     "name": "stdout",
     "output_type": "stream",
     "text": [
      "Fitting 5 folds for each of 9 candidates, totalling 45 fits\n"
     ]
    },
    {
     "name": "stderr",
     "output_type": "stream",
     "text": [
      "[Parallel(n_jobs=5)]: Using backend LokyBackend with 5 concurrent workers.\n",
      "[Parallel(n_jobs=5)]: Done  45 out of  45 | elapsed: 14.4min finished\n"
     ]
    },
    {
     "data": {
      "text/plain": [
       "GridSearchCV(estimator=Pipeline(steps=[('vect', CountVectorizer()),\n",
       "                                       ('tfidf', TfidfTransformer()),\n",
       "                                       ('clf', MultinomialNB())]),\n",
       "             n_jobs=5,\n",
       "             param_grid={'clf__alpha': (0.001, 1e-06, 1e-09),\n",
       "                         'vect__ngram_range': [(1, 2), (1, 3), (1, 4)]},\n",
       "             verbose=1)"
      ]
     },
     "execution_count": 67,
     "metadata": {},
     "output_type": "execute_result"
    }
   ],
   "source": [
    "nb_world_grid.fit(world_tr_df.text, world_tr_df.world_int)"
   ]
  },
  {
   "cell_type": "code",
   "execution_count": 68,
   "metadata": {},
   "outputs": [
    {
     "name": "stdout",
     "output_type": "stream",
     "text": [
      "Fitting 5 folds for each of 9 candidates, totalling 45 fits\n"
     ]
    },
    {
     "name": "stderr",
     "output_type": "stream",
     "text": [
      "[Parallel(n_jobs=5)]: Using backend LokyBackend with 5 concurrent workers.\n",
      "[Parallel(n_jobs=5)]: Done  45 out of  45 | elapsed: 11.9min finished\n"
     ]
    },
    {
     "data": {
      "text/plain": [
       "GridSearchCV(estimator=Pipeline(steps=[('vect', CountVectorizer()),\n",
       "                                       ('tfidf', TfidfTransformer()),\n",
       "                                       ('clf', MultinomialNB())]),\n",
       "             n_jobs=5,\n",
       "             param_grid={'clf__alpha': (0.001, 1e-06, 1e-09),\n",
       "                         'vect__ngram_range': [(1, 2), (1, 3), (1, 4)]},\n",
       "             verbose=1)"
      ]
     },
     "execution_count": 68,
     "metadata": {},
     "output_type": "execute_result"
    }
   ],
   "source": [
    "nb_business_grid.fit(business_tr_df.text, business_tr_df.business_int)"
   ]
  },
  {
   "cell_type": "code",
   "execution_count": 70,
   "metadata": {},
   "outputs": [],
   "source": [
    "nb_sports_best = nb_sports_grid.best_estimator_"
   ]
  },
  {
   "cell_type": "code",
   "execution_count": 73,
   "metadata": {},
   "outputs": [
    {
     "name": "stdout",
     "output_type": "stream",
     "text": [
      "{'clf__alpha': 0.001, 'vect__ngram_range': (1, 2)}\n"
     ]
    }
   ],
   "source": [
    "print(nb_sports_grid.best_params_)"
   ]
  },
  {
   "cell_type": "code",
   "execution_count": 72,
   "metadata": {},
   "outputs": [
    {
     "name": "stdout",
     "output_type": "stream",
     "text": [
      "              precision    recall  f1-score   support\n",
      "\n",
      "           0       0.99      0.99      0.99      7542\n",
      "           1       0.96      0.97      0.97      2458\n",
      "\n",
      "    accuracy                           0.98     10000\n",
      "   macro avg       0.98      0.98      0.98     10000\n",
      "weighted avg       0.98      0.98      0.98     10000\n",
      "\n"
     ]
    }
   ],
   "source": [
    "print(classification_report(sports_ts_df.sports_int,\n",
    "                           nb_sports_best.predict(sports_ts_df.text)))"
   ]
  },
  {
   "cell_type": "markdown",
   "metadata": {},
   "source": [
    "That is a very good classifier, compared to the previous naive bayes classifier for sports articles, the recall for the positive class increased by 3 percentage points. Let's look at the precision / recall curve "
   ]
  },
  {
   "cell_type": "code",
   "execution_count": 85,
   "metadata": {},
   "outputs": [],
   "source": [
    "pr_nb_sports = sklearn.metrics.precision_recall_curve(sports_ts_df.sports_int, nb_sports_best.predict_proba(sports_ts_df.text)[:,1],pos_label=1)"
   ]
  },
  {
   "cell_type": "code",
   "execution_count": 86,
   "metadata": {},
   "outputs": [
    {
     "data": {
      "image/png": "[encoded data removed]",
      "text/plain": [
       "<Figure size 720x720 with 1 Axes>"
      ]
     },
     "metadata": {
      "needs_background": "light"
     },
     "output_type": "display_data"
    }
   ],
   "source": [
    "plt.figure(figsize=(10,10))\n",
    "plt.title('Precision-Recall curve')\n",
    "plt.xlabel('precision')\n",
    "plt.ylabel('recall')\n",
    "plt.scatter(y=pr_nb_sports[0], x=pr_nb_sports[1])\n",
    "plt.grid(True)"
   ]
  },
  {
   "cell_type": "markdown",
   "metadata": {},
   "source": [
    "Beautiful !!!"
   ]
  },
  {
   "cell_type": "code",
   "execution_count": 87,
   "metadata": {},
   "outputs": [],
   "source": [
    "nb_world_best = nb_world_grid.best_estimator_"
   ]
  },
  {
   "cell_type": "code",
   "execution_count": 88,
   "metadata": {},
   "outputs": [
    {
     "name": "stdout",
     "output_type": "stream",
     "text": [
      "{'clf__alpha': 0.001, 'vect__ngram_range': (1, 2)}\n"
     ]
    }
   ],
   "source": [
    "print(nb_world_grid.best_params_)"
   ]
  },
  {
   "cell_type": "code",
   "execution_count": 89,
   "metadata": {},
   "outputs": [
    {
     "name": "stdout",
     "output_type": "stream",
     "text": [
      "              precision    recall  f1-score   support\n",
      "\n",
      "           0       0.96      0.98      0.97      7491\n",
      "           1       0.93      0.87      0.90      2509\n",
      "\n",
      "    accuracy                           0.95     10000\n",
      "   macro avg       0.94      0.92      0.93     10000\n",
      "weighted avg       0.95      0.95      0.95     10000\n",
      "\n"
     ]
    }
   ],
   "source": [
    "print(classification_report(world_ts_df.world_int,\n",
    "                           nb_world_best.predict(world_ts_df.text)))"
   ]
  },
  {
   "cell_type": "markdown",
   "metadata": {},
   "source": [
    "Although the model is performing better than the model with single words, the recall is still below 90%, let's look at the precision / recall curve."
   ]
  },
  {
   "cell_type": "code",
   "execution_count": 90,
   "metadata": {},
   "outputs": [],
   "source": [
    "pr_nb_world = sklearn.metrics.precision_recall_curve(world_ts_df.world_int, nb_world_best.predict_proba(world_ts_df.text)[:,1],pos_label=1)"
   ]
  },
  {
   "cell_type": "code",
   "execution_count": 91,
   "metadata": {},
   "outputs": [
    {
     "data": {
      "image/png": "[encoded data removed]",
      "text/plain": [
       "<Figure size 720x720 with 1 Axes>"
      ]
     },
     "metadata": {
      "needs_background": "light"
     },
     "output_type": "display_data"
    }
   ],
   "source": [
    "plt.figure(figsize=(10,10))\n",
    "plt.title('Precision-Recall curve')\n",
    "plt.xlabel('precision')\n",
    "plt.ylabel('recall')\n",
    "plt.scatter(y=pr_nb_world[0], x=pr_nb_world[1])\n",
    "plt.grid(True)"
   ]
  },
  {
   "cell_type": "markdown",
   "metadata": {},
   "source": [
    "It's a bit hard to tell from the graph but it seems that we can reach 90% recall without dropping below 90% precision. Let's try it."
   ]
  },
  {
   "cell_type": "code",
   "execution_count": 99,
   "metadata": {},
   "outputs": [
    {
     "name": "stdout",
     "output_type": "stream",
     "text": [
      "Metrics with threshold=0.1\n",
      "              precision    recall  f1-score   support\n",
      "\n",
      "           0       0.97      0.96      0.96      7491\n",
      "           1       0.89      0.90      0.90      2509\n",
      "\n",
      "    accuracy                           0.95     10000\n",
      "   macro avg       0.93      0.93      0.93     10000\n",
      "weighted avg       0.95      0.95      0.95     10000\n",
      "\n",
      "\n",
      "Metrics with threshold=0.2\n",
      "              precision    recall  f1-score   support\n",
      "\n",
      "           0       0.96      0.97      0.97      7491\n",
      "           1       0.91      0.89      0.90      2509\n",
      "\n",
      "    accuracy                           0.95     10000\n",
      "   macro avg       0.94      0.93      0.93     10000\n",
      "weighted avg       0.95      0.95      0.95     10000\n",
      "\n",
      "\n",
      "Metrics with threshold=0.3\n",
      "              precision    recall  f1-score   support\n",
      "\n",
      "           0       0.96      0.97      0.97      7491\n",
      "           1       0.92      0.88      0.90      2509\n",
      "\n",
      "    accuracy                           0.95     10000\n",
      "   macro avg       0.94      0.93      0.93     10000\n",
      "weighted avg       0.95      0.95      0.95     10000\n",
      "\n",
      "\n",
      "Metrics with threshold=0.4\n",
      "              precision    recall  f1-score   support\n",
      "\n",
      "           0       0.96      0.98      0.97      7491\n",
      "           1       0.92      0.88      0.90      2509\n",
      "\n",
      "    accuracy                           0.95     10000\n",
      "   macro avg       0.94      0.93      0.93     10000\n",
      "weighted avg       0.95      0.95      0.95     10000\n",
      "\n",
      "\n"
     ]
    }
   ],
   "source": [
    "test_scores_world_nb = nb_world_best.predict_proba(world_ts_df.text)[:,1]\n",
    "\n",
    "for threshold in [0.1, 0.2, 0.3, 0.4]:\n",
    "    print(\"Metrics with threshold={}\".format(threshold))\n",
    "    print(classification_report(world_ts_df.world_int,\n",
    "                                [1 if s>threshold else 0 for s in test_scores_world_nb],))\n",
    "    print()"
   ]
  },
  {
   "cell_type": "markdown",
   "metadata": {},
   "source": [
    "It is really somewhere between a threshold of 0.1 and 0.2, let's try 0.14"
   ]
  },
  {
   "cell_type": "code",
   "execution_count": 102,
   "metadata": {},
   "outputs": [
    {
     "name": "stdout",
     "output_type": "stream",
     "text": [
      "              precision    recall  f1-score   support\n",
      "\n",
      "           0       0.97      0.97      0.97      7491\n",
      "           1       0.90      0.90      0.90      2509\n",
      "\n",
      "    accuracy                           0.95     10000\n",
      "   macro avg       0.93      0.93      0.93     10000\n",
      "weighted avg       0.95      0.95      0.95     10000\n",
      "\n"
     ]
    }
   ],
   "source": [
    "print(classification_report(world_ts_df.world_int, [1 if s>0.14 else 0 for s in test_scores_world_nb]))"
   ]
  },
  {
   "cell_type": "markdown",
   "metadata": {},
   "source": [
    "It works, we have achieved a classifier with 90% precision and 90% recall for the positive class with this threshold."
   ]
  },
  {
   "cell_type": "code",
   "execution_count": 103,
   "metadata": {},
   "outputs": [],
   "source": [
    "nb_business_best = nb_business_grid.best_estimator_"
   ]
  },
  {
   "cell_type": "code",
   "execution_count": 104,
   "metadata": {},
   "outputs": [
    {
     "name": "stdout",
     "output_type": "stream",
     "text": [
      "{'clf__alpha': 0.001, 'vect__ngram_range': (1, 3)}\n"
     ]
    }
   ],
   "source": [
    "print(nb_business_grid.best_params_)"
   ]
  },
  {
   "cell_type": "code",
   "execution_count": 105,
   "metadata": {},
   "outputs": [
    {
     "name": "stdout",
     "output_type": "stream",
     "text": [
      "              precision    recall  f1-score   support\n",
      "\n",
      "           0       0.95      0.96      0.95      7504\n",
      "           1       0.88      0.84      0.86      2496\n",
      "\n",
      "    accuracy                           0.93     10000\n",
      "   macro avg       0.91      0.90      0.91     10000\n",
      "weighted avg       0.93      0.93      0.93     10000\n",
      "\n"
     ]
    }
   ],
   "source": [
    "print(classification_report(business_ts_df.business_int,\n",
    "                           nb_business_best.predict(business_ts_df.text)))"
   ]
  },
  {
   "cell_type": "markdown",
   "metadata": {},
   "source": [
    "It also performs better than the model with simple bags of words, but here it is going to be hard to reach precision or recall above 90% without a major tradeoff. Let's look at the precision / recall curve."
   ]
  },
  {
   "cell_type": "code",
   "execution_count": 106,
   "metadata": {},
   "outputs": [],
   "source": [
    "pr_nb_business = sklearn.metrics.precision_recall_curve(business_ts_df.business_int, nb_business_best.predict_proba(business_ts_df.text)[:,1],pos_label=1)\n"
   ]
  },
  {
   "cell_type": "code",
   "execution_count": 107,
   "metadata": {},
   "outputs": [
    {
     "data": {
      "image/png": "[encoded data removed]",
      "text/plain": [
       "<Figure size 720x720 with 1 Axes>"
      ]
     },
     "metadata": {
      "needs_background": "light"
     },
     "output_type": "display_data"
    }
   ],
   "source": [
    "plt.figure(figsize=(10,10))\n",
    "plt.title('Precision-Recall curve')\n",
    "plt.xlabel('precision')\n",
    "plt.ylabel('recall')\n",
    "plt.scatter(y=pr_nb_business[0], x=pr_nb_business[1])\n",
    "plt.grid(True)"
   ]
  },
  {
   "cell_type": "markdown",
   "metadata": {},
   "source": [
    "As expected, the recall / precision tradeoff here is more important."
   ]
  }
 ],
 "metadata": {
  "kernelspec": {
   "display_name": "Python 3",
   "language": "python",
   "name": "python3"
  },
  "language_info": {
   "codemirror_mode": {
    "name": "ipython",
    "version": 3
   },
   "file_extension": ".py",
   "mimetype": "text/x-python",
   "name": "python",
   "nbconvert_exporter": "python",
   "pygments_lexer": "ipython3",
   "version": "3.8.10"
  }
 },
 "nbformat": 4,
 "nbformat_minor": 4
}
