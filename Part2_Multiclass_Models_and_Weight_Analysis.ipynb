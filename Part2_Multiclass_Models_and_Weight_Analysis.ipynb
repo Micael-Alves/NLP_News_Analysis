{
 "cells": [
  {
   "cell_type": "markdown",
   "metadata": {},
   "source": [
    "# Multiclass models and weight analysis"
   ]
  },
  {
   "cell_type": "markdown",
   "metadata": {},
   "source": [
    "## Exploration"
   ]
  },
  {
   "cell_type": "markdown",
   "metadata": {},
   "source": [
    "Load the training dataset in a first step and inspect the data structure."
   ]
  },
  {
   "cell_type": "code",
   "execution_count": 1,
   "metadata": {},
   "outputs": [
    {
     "data": {
      "text/html": [
       "<div>\n",
       "<style scoped>\n",
       "    .dataframe tbody tr th:only-of-type {\n",
       "        vertical-align: middle;\n",
       "    }\n",
       "\n",
       "    .dataframe tbody tr th {\n",
       "        vertical-align: top;\n",
       "    }\n",
       "\n",
       "    .dataframe thead th {\n",
       "        text-align: right;\n",
       "    }\n",
       "</style>\n",
       "<table border=\"1\" class=\"dataframe\">\n",
       "  <thead>\n",
       "    <tr style=\"text-align: right;\">\n",
       "      <th></th>\n",
       "      <th>text</th>\n",
       "      <th>label</th>\n",
       "      <th>label_int</th>\n",
       "      <th>science_int</th>\n",
       "      <th>sports_int</th>\n",
       "      <th>world_int</th>\n",
       "      <th>business_int</th>\n",
       "    </tr>\n",
       "  </thead>\n",
       "  <tbody>\n",
       "    <tr>\n",
       "      <th>0</th>\n",
       "      <td>John Souza, a volunteer with the Boone County ...</td>\n",
       "      <td>Business</td>\n",
       "      <td>3</td>\n",
       "      <td>0</td>\n",
       "      <td>0</td>\n",
       "      <td>0</td>\n",
       "      <td>1</td>\n",
       "    </tr>\n",
       "    <tr>\n",
       "      <th>1</th>\n",
       "      <td>Spain needs only to beat an under-strength Fre...</td>\n",
       "      <td>Sports</td>\n",
       "      <td>1</td>\n",
       "      <td>0</td>\n",
       "      <td>1</td>\n",
       "      <td>0</td>\n",
       "      <td>0</td>\n",
       "    </tr>\n",
       "    <tr>\n",
       "      <th>2</th>\n",
       "      <td>PANAMA CITY, Panama -- When the United States ...</td>\n",
       "      <td>World</td>\n",
       "      <td>2</td>\n",
       "      <td>0</td>\n",
       "      <td>0</td>\n",
       "      <td>1</td>\n",
       "      <td>0</td>\n",
       "    </tr>\n",
       "    <tr>\n",
       "      <th>3</th>\n",
       "      <td>Gilbert Arenas, Jarvis Hayes and Anthony Peele...</td>\n",
       "      <td>Sports</td>\n",
       "      <td>1</td>\n",
       "      <td>0</td>\n",
       "      <td>1</td>\n",
       "      <td>0</td>\n",
       "      <td>0</td>\n",
       "    </tr>\n",
       "    <tr>\n",
       "      <th>4</th>\n",
       "      <td>MEMPHIS, Tenn. -- Kobe Bryant had his worst sh...</td>\n",
       "      <td>Sports</td>\n",
       "      <td>1</td>\n",
       "      <td>0</td>\n",
       "      <td>1</td>\n",
       "      <td>0</td>\n",
       "      <td>0</td>\n",
       "    </tr>\n",
       "  </tbody>\n",
       "</table>\n",
       "</div>"
      ],
      "text/plain": [
       "                                                text     label  label_int  \\\n",
       "0  John Souza, a volunteer with the Boone County ...  Business          3   \n",
       "1  Spain needs only to beat an under-strength Fre...    Sports          1   \n",
       "2  PANAMA CITY, Panama -- When the United States ...     World          2   \n",
       "3  Gilbert Arenas, Jarvis Hayes and Anthony Peele...    Sports          1   \n",
       "4  MEMPHIS, Tenn. -- Kobe Bryant had his worst sh...    Sports          1   \n",
       "\n",
       "   science_int  sports_int  world_int  business_int  \n",
       "0            0           0          0             1  \n",
       "1            0           1          0             0  \n",
       "2            0           0          1             0  \n",
       "3            0           1          0             0  \n",
       "4            0           1          0             0  "
      ]
     },
     "metadata": {},
     "output_type": "display_data"
    }
   ],
   "source": [
    "%matplotlib inline\n",
    "import pandas as pd\n",
    "import numpy as np\n",
    "import matplotlib.pyplot as plt\n",
    "\n",
    "data = pd.read_csv('agnews_train.csv')\n",
    "display(data.head())\n",
    "columns = list(data.columns)"
   ]
  },
  {
   "cell_type": "code",
   "execution_count": 15,
   "metadata": {},
   "outputs": [
    {
     "data": {
      "text/html": [
       "<div>\n",
       "<style scoped>\n",
       "    .dataframe tbody tr th:only-of-type {\n",
       "        vertical-align: middle;\n",
       "    }\n",
       "\n",
       "    .dataframe tbody tr th {\n",
       "        vertical-align: top;\n",
       "    }\n",
       "\n",
       "    .dataframe thead th {\n",
       "        text-align: right;\n",
       "    }\n",
       "</style>\n",
       "<table border=\"1\" class=\"dataframe\">\n",
       "  <thead>\n",
       "    <tr style=\"text-align: right;\">\n",
       "      <th></th>\n",
       "      <th>label_int</th>\n",
       "      <th>science_int</th>\n",
       "      <th>sports_int</th>\n",
       "      <th>world_int</th>\n",
       "      <th>business_int</th>\n",
       "    </tr>\n",
       "  </thead>\n",
       "  <tbody>\n",
       "    <tr>\n",
       "      <th>count</th>\n",
       "      <td>109999.000000</td>\n",
       "      <td>109999.000000</td>\n",
       "      <td>109999.000000</td>\n",
       "      <td>109999.000000</td>\n",
       "      <td>109999.000000</td>\n",
       "    </tr>\n",
       "    <tr>\n",
       "      <th>mean</th>\n",
       "      <td>1.500341</td>\n",
       "      <td>0.249657</td>\n",
       "      <td>0.250384</td>\n",
       "      <td>0.249920</td>\n",
       "      <td>0.250039</td>\n",
       "    </tr>\n",
       "    <tr>\n",
       "      <th>std</th>\n",
       "      <td>1.117767</td>\n",
       "      <td>0.432816</td>\n",
       "      <td>0.433236</td>\n",
       "      <td>0.432969</td>\n",
       "      <td>0.433037</td>\n",
       "    </tr>\n",
       "    <tr>\n",
       "      <th>min</th>\n",
       "      <td>0.000000</td>\n",
       "      <td>0.000000</td>\n",
       "      <td>0.000000</td>\n",
       "      <td>0.000000</td>\n",
       "      <td>0.000000</td>\n",
       "    </tr>\n",
       "    <tr>\n",
       "      <th>25%</th>\n",
       "      <td>1.000000</td>\n",
       "      <td>0.000000</td>\n",
       "      <td>0.000000</td>\n",
       "      <td>0.000000</td>\n",
       "      <td>0.000000</td>\n",
       "    </tr>\n",
       "    <tr>\n",
       "      <th>50%</th>\n",
       "      <td>1.000000</td>\n",
       "      <td>0.000000</td>\n",
       "      <td>0.000000</td>\n",
       "      <td>0.000000</td>\n",
       "      <td>0.000000</td>\n",
       "    </tr>\n",
       "    <tr>\n",
       "      <th>75%</th>\n",
       "      <td>3.000000</td>\n",
       "      <td>0.000000</td>\n",
       "      <td>1.000000</td>\n",
       "      <td>0.000000</td>\n",
       "      <td>1.000000</td>\n",
       "    </tr>\n",
       "    <tr>\n",
       "      <th>max</th>\n",
       "      <td>3.000000</td>\n",
       "      <td>1.000000</td>\n",
       "      <td>1.000000</td>\n",
       "      <td>1.000000</td>\n",
       "      <td>1.000000</td>\n",
       "    </tr>\n",
       "  </tbody>\n",
       "</table>\n",
       "</div>"
      ],
      "text/plain": [
       "           label_int    science_int     sports_int      world_int  \\\n",
       "count  109999.000000  109999.000000  109999.000000  109999.000000   \n",
       "mean        1.500341       0.249657       0.250384       0.249920   \n",
       "std         1.117767       0.432816       0.433236       0.432969   \n",
       "min         0.000000       0.000000       0.000000       0.000000   \n",
       "25%         1.000000       0.000000       0.000000       0.000000   \n",
       "50%         1.000000       0.000000       0.000000       0.000000   \n",
       "75%         3.000000       0.000000       1.000000       0.000000   \n",
       "max         3.000000       1.000000       1.000000       1.000000   \n",
       "\n",
       "        business_int  \n",
       "count  109999.000000  \n",
       "mean        0.250039  \n",
       "std         0.433037  \n",
       "min         0.000000  \n",
       "25%         0.000000  \n",
       "50%         0.000000  \n",
       "75%         1.000000  \n",
       "max         1.000000  "
      ]
     },
     "execution_count": 15,
     "metadata": {},
     "output_type": "execute_result"
    }
   ],
   "source": [
    "data.describe()"
   ]
  },
  {
   "cell_type": "markdown",
   "metadata": {},
   "source": [
    "Compute an Analyzer function that tokenizes the words within the text and exludes fill words and punctuation."
   ]
  },
  {
   "cell_type": "code",
   "execution_count": 4,
   "metadata": {},
   "outputs": [
    {
     "name": "stdout",
     "output_type": "stream",
     "text": [
      "REVIEW 0\n",
      "TEXT John Souza, a volunteer with the Boone County chapter of the American Red Cross, is the second Columbia resident to join efforts to assist people who were affected by Tropical Storm Bonnie and Hurricane Charley.\n",
      "WORDS ['john', 'souza', 'volunteer', 'with', 'the', 'boone', 'county', 'chapter', 'of', 'the', 'american', 'red', 'cross', 'is', 'the', 'second', 'columbia', 'resident', 'to', 'join', 'efforts', 'to', 'assist', 'people', 'who', 'were', 'affected', 'by', 'tropical', 'storm', 'bonnie', 'and', 'hurricane', 'charley']\n",
      "REVIEW 1\n",
      "TEXT Spain needs only to beat an under-strength French team to secure its place in the Davis Cup tennis final, while Britain looks to the experience of Tim Henman and Greg Rusedski in its World Group play-off with Austria this weekend.\n",
      "WORDS ['spain', 'needs', 'only', 'to', 'beat', 'an', 'under', 'strength', 'french', 'team', 'to', 'secure', 'its', 'place', 'in', 'the', 'davis', 'cup', 'tennis', 'final', 'while', 'britain', 'looks', 'to', 'the', 'experience', 'of', 'tim', 'henman', 'and', 'greg', 'rusedski', 'in', 'its', 'world', 'group', 'play', 'off', 'with', 'austria', 'this', 'weekend']\n",
      "REVIEW 2\n",
      "TEXT PANAMA CITY, Panama -- When the United States gave Panama control over its canal, many observers predicted that the international waterway would be plagued by problems at best and chaos at worst.\n",
      "WORDS ['panama', 'city', 'panama', 'when', 'the', 'united', 'states', 'gave', 'panama', 'control', 'over', 'its', 'canal', 'many', 'observers', 'predicted', 'that', 'the', 'international', 'waterway', 'would', 'be', 'plagued', 'by', 'problems', 'at', 'best', 'and', 'chaos', 'at', 'worst']\n",
      "REVIEW 3\n",
      "TEXT Gilbert Arenas, Jarvis Hayes and Anthony Peeler return from minor injuries to play in the Wizards' 97-85 victory over the Bobcats.\n",
      "WORDS ['gilbert', 'arenas', 'jarvis', 'hayes', 'and', 'anthony', 'peeler', 'return', 'from', 'minor', 'injuries', 'to', 'play', 'in', 'the', 'wizards', '97', '85', 'victory', 'over', 'the', 'bobcats']\n",
      "REVIEW 4\n",
      "TEXT MEMPHIS, Tenn. -- Kobe Bryant had his worst shooting night of the season Wednesday in the Lakers #39; 110-87 loss to the Grizzlies, and worse yet, he needed nearly 45 minutes of postgame treatment for plantar fasciitis in his left foot.\n",
      "WORDS ['memphis', 'tenn', 'kobe', 'bryant', 'had', 'his', 'worst', 'shooting', 'night', 'of', 'the', 'season', 'wednesday', 'in', 'the', 'lakers', '39', '110', '87', 'loss', 'to', 'the', 'grizzlies', 'and', 'worse', 'yet', 'he', 'needed', 'nearly', '45', 'minutes', 'of', 'postgame', 'treatment', 'for', 'plantar', 'fasciitis', 'in', 'his', 'left', 'foot']\n"
     ]
    }
   ],
   "source": [
    "sentence = data.text[0]\n",
    "sentence.split()\n",
    "\n",
    "from sklearn.feature_extraction.text import CountVectorizer, TfidfTransformer\n",
    "\n",
    "def make_sklearn_analyzer():\n",
    "    vect = CountVectorizer(stop_words=[])\n",
    "    analyzer = vect.build_analyzer()\n",
    "    return analyzer    # Tokenize the words within the text, excluding fill words and punctuation\n",
    "\n",
    "sk_analyzer = make_sklearn_analyzer()\n",
    "sk_analyzer(sentence)\n",
    "\n",
    "for i in range(5):\n",
    "   text = data.text[i]\n",
    "   print('REVIEW', i)\n",
    "   print('TEXT',text)\n",
    "   print('WORDS', sk_analyzer(text))"
   ]
  },
  {
   "cell_type": "markdown",
   "metadata": {},
   "source": [
    "Analyze the frequency and distribution of words within the dataset."
   ]
  },
  {
   "cell_type": "code",
   "execution_count": 8,
   "metadata": {},
   "outputs": [
    {
     "name": "stdout",
     "output_type": "stream",
     "text": [
      "Total Number of Words 58831\n",
      "company 6648\n",
      "Reuters 0\n",
      "sport 305\n"
     ]
    },
    {
     "data": {
      "text/plain": [
       "[('the', 182263),\n",
       " ('to', 88925),\n",
       " ('of', 82101),\n",
       " ('in', 72156),\n",
       " ('and', 60998),\n",
       " ('on', 44011),\n",
       " ('for', 35113),\n",
       " ('39', 29262),\n",
       " ('that', 25467),\n",
       " ('with', 20823)]"
      ]
     },
     "execution_count": 8,
     "metadata": {},
     "output_type": "execute_result"
    }
   ],
   "source": [
    "from collections import Counter\n",
    "\n",
    "word_counts = Counter()\n",
    "for text in data.text:\n",
    "    word_counts.update(sk_analyzer(text))\n",
    "\n",
    "print('Total Number of Words', len(word_counts.most_common()))\n",
    "\n",
    "for w in 'company', 'Reuters', 'sport':\n",
    "   print(w, word_counts[w])\n",
    "\n",
    "word_counts.most_common(10)"
   ]
  },
  {
   "cell_type": "code",
   "execution_count": 9,
   "metadata": {},
   "outputs": [
    {
     "name": "stderr",
     "output_type": "stream",
     "text": [
      "<ipython-input-9-088771804f7a>:6: UserWarning: Matplotlib is currently using module://ipykernel.pylab.backend_inline, which is a non-GUI backend, so cannot show the figure.\n",
      "  fig.show()\n"
     ]
    },
    {
     "data": {
      "image/png": "[encoded data removed]",
      "text/plain": [
       "<Figure size 2160x720 with 1 Axes>"
      ]
     },
     "metadata": {
      "needs_background": "light"
     },
     "output_type": "display_data"
    }
   ],
   "source": [
    "N = 200   # Plot frequency against rank of words by frequency\n",
    "fig = plt.figure(figsize=(30,10))\n",
    "plt.bar(range(N), [w[1] for w in word_counts.most_common(N)])\n",
    "plt.xlabel('word rank by frequency')\n",
    "plt.ylabel('word frequency in docs')\n",
    "fig.show()"
   ]
  },
  {
   "cell_type": "markdown",
   "metadata": {},
   "source": [
    "## Classification "
   ]
  },
  {
   "cell_type": "code",
   "execution_count": 12,
   "metadata": {},
   "outputs": [],
   "source": [
    "import sklearn.metrics\n",
    "from sklearn.metrics import classification_report\n",
    "\n",
    "from IPython.display import HTML, JSON\n",
    "def display_df(df):\n",
    "    return HTML(df.to_html())       \n",
    "\n",
    "from qgrid import show_grid"
   ]
  },
  {
   "cell_type": "code",
   "execution_count": 16,
   "metadata": {},
   "outputs": [],
   "source": [
    "# Balanced distribution of labels at ~25%\n",
    "data_train = data\n",
    "data_test = pd.read_csv('./agnews_test.csv')   # 8% test \n",
    "data_test.describe()   # Balanced distribution of labels at ~25%\n",
    "\n",
    "from sklearn.pipeline import Pipeline\n",
    "from sklearn.feature_extraction.text import CountVectorizer, TfidfTransformer\n",
    "from sklearn.naive_bayes import MultinomialNB\n",
    "from sklearn.linear_model import SGDClassifier"
   ]
  },
  {
   "cell_type": "markdown",
   "metadata": {},
   "source": [
    "### Simple classification with Naive Bayes multi-class categorization"
   ]
  },
  {
   "cell_type": "code",
   "execution_count": 21,
   "metadata": {},
   "outputs": [
    {
     "name": "stdout",
     "output_type": "stream",
     "text": [
      "              precision    recall  f1-score   support\n",
      "\n",
      "           0       0.88      0.86      0.87      2537\n",
      "           1       0.95      0.98      0.96      2458\n",
      "           2       0.90      0.89      0.89      2509\n",
      "           3       0.86      0.86      0.86      2496\n",
      "\n",
      "    accuracy                           0.90     10000\n",
      "   macro avg       0.90      0.90      0.90     10000\n",
      "weighted avg       0.90      0.90      0.90     10000\n",
      "\n"
     ]
    }
   ],
   "source": [
    "def make_sklearn_naive_bayes():\n",
    "    classifier = Pipeline([\n",
    "        ('vect', CountVectorizer()),     # Extracts bag of words from text\n",
    "        ('tfidf', TfidfTransformer()),   # Assigned word frequency\n",
    "        ('clf', MultinomialNB()), ])     # ML algorithm learning word weights\n",
    "    return classifier\n",
    "\n",
    "dtrain_naivebayes = Pipeline([\n",
    "        ('vect', CountVectorizer()),\n",
    "        ('tfidf', TfidfTransformer()),\n",
    "        ('clf', MultinomialNB()),\n",
    "    ])\n",
    "dtrain_naivebayes.fit(data_train.text, data_train.label_int)   \n",
    "# Train Naive Bayes classifier on training dataset\n",
    "\n",
    "dtest_naivebayes = dtrain_naivebayes.predict(data_test.text)\n",
    "\n",
    "print(classification_report(data_test.label_int,\n",
    "                            dtest_naivebayes))"
   ]
  },
  {
   "cell_type": "markdown",
   "metadata": {},
   "source": [
    "The Naive Bayes classifier yields an accuracy of 0.9 on the test set and precision values for the respective classes between 0.86 (Business) and 0.95 (Sports). Despite the dataset being balanced in the distribution of classes, this indicates strong differences in the model's performance in correctly predicting certain classes. Moreover, the Naive Bayes classifier yields a high recall metric for class 1 (Sports) as well, while the metric is significantly lower for the other 3 classes (between 0.86 and 0.89). This indicates that the model performs quite well in distinguishing most of the instances in this class, while it does less so on the other ones.   "
   ]
  },
  {
   "cell_type": "markdown",
   "metadata": {},
   "source": [
    "### Simple classification with SGD Classifiers"
   ]
  },
  {
   "cell_type": "code",
   "execution_count": 22,
   "metadata": {},
   "outputs": [
    {
     "name": "stdout",
     "output_type": "stream",
     "text": [
      "              precision    recall  f1-score   support\n",
      "\n",
      "           0       0.88      0.88      0.88      2537\n",
      "           1       0.96      0.97      0.96      2458\n",
      "           2       0.91      0.88      0.89      2509\n",
      "           3       0.86      0.88      0.87      2496\n",
      "\n",
      "    accuracy                           0.90     10000\n",
      "   macro avg       0.90      0.90      0.90     10000\n",
      "weighted avg       0.90      0.90      0.90     10000\n",
      "\n"
     ]
    }
   ],
   "source": [
    "def make_sklearn_sgd():\n",
    "    classifier = Pipeline([\n",
    "        ('vect', CountVectorizer()),\n",
    "        ('tfidf', TfidfTransformer()),\n",
    "        ('clf', SGDClassifier(loss='hinge', penalty='l2',\n",
    "                              alpha=1e-3, random_state=42,\n",
    "                              max_iter=5, tol=None))])\n",
    "    return classifier\n",
    "\n",
    "dtrain_sgd = Pipeline([\n",
    "        ('vect', CountVectorizer()),\n",
    "        ('tfidf', TfidfTransformer(use_idf=True)),\n",
    "        ('clf', SGDClassifier(loss='hinge', penalty='l2',\n",
    "                              alpha=1e-6, random_state=42,   \n",
    "                              max_iter=100, tol=None))])\n",
    "\n",
    "dtrain_sgd.fit(data_train.text, data_train.label_int)\n",
    "\n",
    "print(classification_report(data_test.label_int,\n",
    "                            dtrain_sgd.predict(data_test.text))) "
   ]
  },
  {
   "cell_type": "markdown",
   "metadata": {},
   "source": [
    "Changing the classifier has not really improved the performance of the model: while the overall accuracy remains at 0.9, precision and recall for each class have only slightly changed, but with no clear overall positive or negative direction.   "
   ]
  },
  {
   "cell_type": "code",
   "execution_count": 23,
   "metadata": {},
   "outputs": [
    {
     "name": "stdout",
     "output_type": "stream",
     "text": [
      "              precision    recall  f1-score   support\n",
      "\n",
      "           0       0.86      0.81      0.83      2537\n",
      "           1       0.86      0.98      0.92      2458\n",
      "           2       0.88      0.86      0.87      2509\n",
      "           3       0.86      0.82      0.84      2496\n",
      "\n",
      "    accuracy                           0.87     10000\n",
      "   macro avg       0.87      0.87      0.86     10000\n",
      "weighted avg       0.87      0.87      0.86     10000\n",
      "\n"
     ]
    }
   ],
   "source": [
    "dtrain_sgd = Pipeline([\n",
    "        ('vect', CountVectorizer()),\n",
    "        ('tfidf', TfidfTransformer(use_idf=True)),\n",
    "        ('clf', SGDClassifier(loss='hinge', penalty='l2',\n",
    "                              alpha=1e-3, random_state=42,   \n",
    "                              max_iter=100, tol=None))])\n",
    "\n",
    "dtrain_sgd.fit(data_train.text, data_train.label_int)\n",
    "\n",
    "print(classification_report(data_test.label_int,\n",
    "                            dtrain_sgd.predict(data_test.text))) "
   ]
  },
  {
   "cell_type": "markdown",
   "metadata": {},
   "source": [
    "One way to investigate what levers can improve model performance consists of finetuning the hyper-parameters of the model. For instance, we attempted to increase the alpha threshold to 1e-3 from 1e-6 (meaning that the model will be more regularized). However, this parameter change resulted in a performance drop of the model: overall accuracy decreased to 0.87, while precision and recall metrics almost consistently worsened across all 4 classes."
   ]
  },
  {
   "cell_type": "markdown",
   "metadata": {},
   "source": [
    "## Bag of n-grams classification with SGD Classifiers"
   ]
  },
  {
   "cell_type": "markdown",
   "metadata": {},
   "source": [
    "As a next step, we transformed the underlying text elements and words within the dataset and tested several combinations of n-grams (unigram, bigram, trigram) as well as different alpha-thresholds in a cross-validated grid search to find the parameters that optimize the accuracy of our model with a stochastic gradient descent approach."
   ]
  },
  {
   "cell_type": "code",
   "execution_count": 24,
   "metadata": {},
   "outputs": [],
   "source": [
    "def make_sklearn_analyzer(n=1):\n",
    "    vect = CountVectorizer(stop_words=[], ngram_range=(1,n))\n",
    "    analyzer = vect.build_analyzer()\n",
    "    return analyzer\n",
    "\n",
    "unigram_analyzer = make_sklearn_analyzer(1)\n",
    "bigram_analyzer = make_sklearn_analyzer(2)\n",
    "trigram_analyzer = make_sklearn_analyzer(3)\n",
    "\n",
    "from sklearn.model_selection import GridSearchCV\n",
    "\n",
    "def crossvalidation_report_df(grid_cv):   \n",
    "    cols = [c for c in grid_cv.cv_results_ if (c.startswith('param') or\n",
    "                                              c in ['mean_test_score', 'rank_test_score'])] \n",
    "    return pd.DataFrame(grid_cv.cv_results_).sort_values(by='rank_test_score')[cols]"
   ]
  },
  {
   "cell_type": "code",
   "execution_count": 25,
   "metadata": {},
   "outputs": [],
   "source": [
    "# Define SGD classifier and convenience function\n",
    "sgd_grid_estimator = Pipeline([\n",
    "    ('vect', CountVectorizer()),\n",
    "    ('tfidf', TfidfTransformer(use_idf=True)),\n",
    "    ('clf', SGDClassifier(loss='hinge', penalty='l2', random_state=42, max_iter=100, tol=None))])\n",
    "\n",
    "# Set grid search parameters\n",
    "sgd_grid_parameters = {\n",
    "    'vect__ngram_range': [(1, 1), (1, 2), (1,3)],\n",
    "    'clf__alpha': (1e-3, 1e-6, 1e-9, 1e-12)}\n",
    "\n",
    "# Set GridSearch function\n",
    "sgd_grid= GridSearchCV(sgd_grid_estimator, sgd_grid_parameters, verbose=1)"
   ]
  },
  {
   "cell_type": "code",
   "execution_count": 35,
   "metadata": {},
   "outputs": [
    {
     "name": "stdout",
     "output_type": "stream",
     "text": [
      "Fitting 5 folds for each of 12 candidates, totalling 60 fits\n"
     ]
    },
    {
     "name": "stderr",
     "output_type": "stream",
     "text": [
      "[Parallel(n_jobs=1)]: Using backend SequentialBackend with 1 concurrent workers.\n",
      "[Parallel(n_jobs=1)]: Done  60 out of  60 | elapsed: 29.3min finished\n"
     ]
    },
    {
     "data": {
      "text/html": [
       "<div>\n",
       "<style scoped>\n",
       "    .dataframe tbody tr th:only-of-type {\n",
       "        vertical-align: middle;\n",
       "    }\n",
       "\n",
       "    .dataframe tbody tr th {\n",
       "        vertical-align: top;\n",
       "    }\n",
       "\n",
       "    .dataframe thead th {\n",
       "        text-align: right;\n",
       "    }\n",
       "</style>\n",
       "<table border=\"1\" class=\"dataframe\">\n",
       "  <thead>\n",
       "    <tr style=\"text-align: right;\">\n",
       "      <th></th>\n",
       "      <th>param_clf__alpha</th>\n",
       "      <th>param_vect__ngram_range</th>\n",
       "      <th>params</th>\n",
       "      <th>mean_test_score</th>\n",
       "      <th>rank_test_score</th>\n",
       "    </tr>\n",
       "  </thead>\n",
       "  <tbody>\n",
       "    <tr>\n",
       "      <th>5</th>\n",
       "      <td>1e-06</td>\n",
       "      <td>(1, 3)</td>\n",
       "      <td>{'clf__alpha': 1e-06, 'vect__ngram_range': (1,...</td>\n",
       "      <td>0.912499</td>\n",
       "      <td>1</td>\n",
       "    </tr>\n",
       "    <tr>\n",
       "      <th>4</th>\n",
       "      <td>1e-06</td>\n",
       "      <td>(1, 2)</td>\n",
       "      <td>{'clf__alpha': 1e-06, 'vect__ngram_range': (1,...</td>\n",
       "      <td>0.910763</td>\n",
       "      <td>2</td>\n",
       "    </tr>\n",
       "    <tr>\n",
       "      <th>8</th>\n",
       "      <td>1e-09</td>\n",
       "      <td>(1, 3)</td>\n",
       "      <td>{'clf__alpha': 1e-09, 'vect__ngram_range': (1,...</td>\n",
       "      <td>0.906281</td>\n",
       "      <td>3</td>\n",
       "    </tr>\n",
       "    <tr>\n",
       "      <th>11</th>\n",
       "      <td>1e-12</td>\n",
       "      <td>(1, 3)</td>\n",
       "      <td>{'clf__alpha': 1e-12, 'vect__ngram_range': (1,...</td>\n",
       "      <td>0.905808</td>\n",
       "      <td>4</td>\n",
       "    </tr>\n",
       "    <tr>\n",
       "      <th>7</th>\n",
       "      <td>1e-09</td>\n",
       "      <td>(1, 2)</td>\n",
       "      <td>{'clf__alpha': 1e-09, 'vect__ngram_range': (1,...</td>\n",
       "      <td>0.902363</td>\n",
       "      <td>5</td>\n",
       "    </tr>\n",
       "    <tr>\n",
       "      <th>10</th>\n",
       "      <td>1e-12</td>\n",
       "      <td>(1, 2)</td>\n",
       "      <td>{'clf__alpha': 1e-12, 'vect__ngram_range': (1,...</td>\n",
       "      <td>0.901854</td>\n",
       "      <td>6</td>\n",
       "    </tr>\n",
       "    <tr>\n",
       "      <th>3</th>\n",
       "      <td>1e-06</td>\n",
       "      <td>(1, 1)</td>\n",
       "      <td>{'clf__alpha': 1e-06, 'vect__ngram_range': (1,...</td>\n",
       "      <td>0.892299</td>\n",
       "      <td>7</td>\n",
       "    </tr>\n",
       "    <tr>\n",
       "      <th>2</th>\n",
       "      <td>0.001</td>\n",
       "      <td>(1, 3)</td>\n",
       "      <td>{'clf__alpha': 0.001, 'vect__ngram_range': (1,...</td>\n",
       "      <td>0.870635</td>\n",
       "      <td>8</td>\n",
       "    </tr>\n",
       "    <tr>\n",
       "      <th>0</th>\n",
       "      <td>0.001</td>\n",
       "      <td>(1, 1)</td>\n",
       "      <td>{'clf__alpha': 0.001, 'vect__ngram_range': (1,...</td>\n",
       "      <td>0.868053</td>\n",
       "      <td>9</td>\n",
       "    </tr>\n",
       "    <tr>\n",
       "      <th>1</th>\n",
       "      <td>0.001</td>\n",
       "      <td>(1, 2)</td>\n",
       "      <td>{'clf__alpha': 0.001, 'vect__ngram_range': (1,...</td>\n",
       "      <td>0.867335</td>\n",
       "      <td>10</td>\n",
       "    </tr>\n",
       "    <tr>\n",
       "      <th>9</th>\n",
       "      <td>1e-12</td>\n",
       "      <td>(1, 1)</td>\n",
       "      <td>{'clf__alpha': 1e-12, 'vect__ngram_range': (1,...</td>\n",
       "      <td>0.863344</td>\n",
       "      <td>11</td>\n",
       "    </tr>\n",
       "    <tr>\n",
       "      <th>6</th>\n",
       "      <td>1e-09</td>\n",
       "      <td>(1, 1)</td>\n",
       "      <td>{'clf__alpha': 1e-09, 'vect__ngram_range': (1,...</td>\n",
       "      <td>0.862744</td>\n",
       "      <td>12</td>\n",
       "    </tr>\n",
       "  </tbody>\n",
       "</table>\n",
       "</div>"
      ],
      "text/plain": [
       "   param_clf__alpha param_vect__ngram_range  \\\n",
       "5             1e-06                  (1, 3)   \n",
       "4             1e-06                  (1, 2)   \n",
       "8             1e-09                  (1, 3)   \n",
       "11            1e-12                  (1, 3)   \n",
       "7             1e-09                  (1, 2)   \n",
       "10            1e-12                  (1, 2)   \n",
       "3             1e-06                  (1, 1)   \n",
       "2             0.001                  (1, 3)   \n",
       "0             0.001                  (1, 1)   \n",
       "1             0.001                  (1, 2)   \n",
       "9             1e-12                  (1, 1)   \n",
       "6             1e-09                  (1, 1)   \n",
       "\n",
       "                                               params  mean_test_score  \\\n",
       "5   {'clf__alpha': 1e-06, 'vect__ngram_range': (1,...         0.912499   \n",
       "4   {'clf__alpha': 1e-06, 'vect__ngram_range': (1,...         0.910763   \n",
       "8   {'clf__alpha': 1e-09, 'vect__ngram_range': (1,...         0.906281   \n",
       "11  {'clf__alpha': 1e-12, 'vect__ngram_range': (1,...         0.905808   \n",
       "7   {'clf__alpha': 1e-09, 'vect__ngram_range': (1,...         0.902363   \n",
       "10  {'clf__alpha': 1e-12, 'vect__ngram_range': (1,...         0.901854   \n",
       "3   {'clf__alpha': 1e-06, 'vect__ngram_range': (1,...         0.892299   \n",
       "2   {'clf__alpha': 0.001, 'vect__ngram_range': (1,...         0.870635   \n",
       "0   {'clf__alpha': 0.001, 'vect__ngram_range': (1,...         0.868053   \n",
       "1   {'clf__alpha': 0.001, 'vect__ngram_range': (1,...         0.867335   \n",
       "9   {'clf__alpha': 1e-12, 'vect__ngram_range': (1,...         0.863344   \n",
       "6   {'clf__alpha': 1e-09, 'vect__ngram_range': (1,...         0.862744   \n",
       "\n",
       "    rank_test_score  \n",
       "5                 1  \n",
       "4                 2  \n",
       "8                 3  \n",
       "11                4  \n",
       "7                 5  \n",
       "10                6  \n",
       "3                 7  \n",
       "2                 8  \n",
       "0                 9  \n",
       "1                10  \n",
       "9                11  \n",
       "6                12  "
      ]
     },
     "execution_count": 35,
     "metadata": {},
     "output_type": "execute_result"
    }
   ],
   "source": [
    "# Run GridSearch on the train dataset\n",
    "sgd_grid.fit(data_train.text, data_train.label_int)\n",
    "\n",
    "crossvalidation_report_df(sgd_grid)\n",
    "# Trigram, alpha 1e-06 has highest accuracy (0.912499)"
   ]
  },
  {
   "cell_type": "code",
   "execution_count": 37,
   "metadata": {},
   "outputs": [
    {
     "name": "stdout",
     "output_type": "stream",
     "text": [
      "BEST PARAMS: {'clf__alpha': 1e-06, 'vect__ngram_range': (1, 3)}\n",
      "              precision    recall  f1-score   support\n",
      "\n",
      "           0       0.89      0.89      0.89      2537\n",
      "           1       0.95      0.98      0.97      2458\n",
      "           2       0.91      0.90      0.91      2509\n",
      "           3       0.89      0.87      0.88      2496\n",
      "\n",
      "    accuracy                           0.91     10000\n",
      "   macro avg       0.91      0.91      0.91     10000\n",
      "weighted avg       0.91      0.91      0.91     10000\n",
      "\n"
     ]
    }
   ],
   "source": [
    "sgd_best = sgd_grid.best_estimator_ \n",
    "print('BEST PARAMS:', sgd_grid.best_params_)\n",
    "\n",
    "print(classification_report(data_test.label_int,\n",
    "                            sgd_best.predict(data_test.text)))"
   ]
  },
  {
   "cell_type": "markdown",
   "metadata": {},
   "source": [
    "With the opimized model parameters (trigrams, with an alpha threshold of 1e-6), the model performance clearly improved: \n",
    "- Overall accuracy increased to 0.91 (0.9 for the original Naive Bayes and SGD classifiers)\n",
    "- Recall and precision increased across all classes compared to the two original models (macro and weighted average inrceased from 0.9 to 0.91). \n",
    "\n",
    "However, even with the best parameters we could only achieve a minor performance improvement compared to our basic models. Thus, we decided to investigate other approaches, such as neural networks to investigate whether we can achieve even better results."
   ]
  },
  {
   "cell_type": "markdown",
   "metadata": {},
   "source": [
    "## Inspect Classifier Weights for Multi-Class Model"
   ]
  },
  {
   "cell_type": "markdown",
   "metadata": {},
   "source": [
    "As a next step, we decided to look at what our models learned by inspecting the parameters and their weights as learned by the model. "
   ]
  },
  {
   "cell_type": "markdown",
   "metadata": {},
   "source": [
    "### Parameter weights of the original SGD classifier"
   ]
  },
  {
   "cell_type": "code",
   "execution_count": 32,
   "metadata": {},
   "outputs": [
    {
     "data": {
      "text/plain": [
       "[('fullquote', -0.8739376675650457),\n",
       " ('york', -0.7517832298862825),\n",
       " ('stocks', -0.6327144274440258),\n",
       " ('his', -0.600096179745413),\n",
       " ('yesterday', -0.4789500698850252),\n",
       " ('in', -0.45944857371331976),\n",
       " ('oil', -0.4495074933378113),\n",
       " ('he', -0.44799198813220076),\n",
       " ('season', -0.4381154232033775),\n",
       " ('aspx', -0.4369688337825228)]"
      ]
     },
     "execution_count": 32,
     "metadata": {},
     "output_type": "execute_result"
    }
   ],
   "source": [
    "def sort_feature_weights(sk_pipe, fkey='vect', wkey='clf'):\n",
    "    F = sk_pipe[fkey].get_feature_names()\n",
    "    W = sk_pipe[wkey].coef_[0]\n",
    "    return sorted(zip(F, W), key=lambda fw: fw[1])\n",
    " \n",
    "dtrain_sgd_weights = sort_feature_weights(dtrain_sgd)\n",
    "n=10\n",
    "\n",
    "dtrain_sgd_weights[:n]"
   ]
  },
  {
   "cell_type": "code",
   "execution_count": 33,
   "metadata": {},
   "outputs": [
    {
     "data": {
      "text/plain": [
       "[('nasa', 1.3529981830453208),\n",
       " ('technology', 1.3954502513156175),\n",
       " ('users', 1.4353288785076748),\n",
       " ('web', 1.4679684224535572),\n",
       " ('computer', 1.5759304492791462),\n",
       " ('music', 1.6541195563470688),\n",
       " ('space', 2.290976803466792),\n",
       " ('internet', 2.339667153033667),\n",
       " ('software', 2.5017299948635388),\n",
       " ('microsoft', 2.6362945950936414)]"
      ]
     },
     "execution_count": 33,
     "metadata": {},
     "output_type": "execute_result"
    }
   ],
   "source": [
    "dtrain_sgd_weights[-n:]"
   ]
  },
  {
   "cell_type": "markdown",
   "metadata": {},
   "source": [
    "To begin with, we took a look at the parameters and weights learned by the original SGD classifier. \n",
    "Surprisingly, the words with the highest weights (e.g. 'microsoft', 'software', 'internet', 'space' etc.) could probably be associated with topics in the fields of science or business. However, our initial model had the lowest precision and recall scores for exactly these labels. On the other hand, while the model distinguished the 'Sports\" label most successfully, none of the high-weight words is directly associated with sports.\n",
    "\n",
    "Looking at the negatively-weighted parameters, we found more surprising results: most of the words seem to have less interpretative power than the positively-weight ones: e.g. 'his','yesterday','he','season' can be less easily categorized into one of the labels than 'microsoft' for instance."
   ]
  },
  {
   "cell_type": "markdown",
   "metadata": {},
   "source": [
    "### Parameter weights of the best-performing SGD classifier (Grid Search result)"
   ]
  },
  {
   "cell_type": "code",
   "execution_count": 63,
   "metadata": {},
   "outputs": [
    {
     "data": {
      "text/plain": [
       "[('space', 7.023450660165638),\n",
       " ('nasa', 6.1948301417173655),\n",
       " ('ap', 5.748732047383109),\n",
       " ('software', 5.647193887275042),\n",
       " ('internet', 5.588889764029919),\n",
       " ('scientists', 5.226673193357043),\n",
       " ('apple', 5.1071346204992505),\n",
       " ('washingtonpost com', 4.957600724582644),\n",
       " ('microsoft', 4.878306719863067),\n",
       " ('linux', 4.829559894782848)]"
      ]
     },
     "execution_count": 63,
     "metadata": {},
     "output_type": "execute_result"
    }
   ],
   "source": [
    "sgd_best_weights = sort_feature_weights(sgd_best)\n",
    "sgd_best_weights = sorted(sgd_best_weights, key=lambda fw: fw[1], reverse=True)\n",
    "\n",
    "sgd_best_weights[:10]"
   ]
  },
  {
   "cell_type": "code",
   "execution_count": 64,
   "metadata": {},
   "outputs": [
    {
     "data": {
      "text/plain": [
       "[('stocks', -2.7464637221065407),\n",
       " ('saturday', -2.799639645289625),\n",
       " ('sunday', -3.027339954953755),\n",
       " ('new york', -3.1925045363436158),\n",
       " ('york', -3.23534549658602),\n",
       " ('iraq', -3.2400012485346394),\n",
       " ('football', -3.2600094736425103),\n",
       " ('coach', -3.346162773986989),\n",
       " ('yesterday', -4.046763289988104),\n",
       " ('hellip', -4.2051911647795155)]"
      ]
     },
     "execution_count": 64,
     "metadata": {},
     "output_type": "execute_result"
    }
   ],
   "source": [
    "sgd_best_weights[-10:]"
   ]
  },
  {
   "cell_type": "markdown",
   "metadata": {},
   "source": [
    "Similarly to the first model, the weight analysis shows that words such as 'space','nasa','software' are among the highest-weight words and give the model most interpretative power. However, this time the negatively-weight words can also be more clearly categorized into one of the labels ('football','iraq','coach'). Interestingly, we have a wider range of weights in our parameter summary: in the best model between -4.2 and 7.0, while the original model ranged from -0.9 to 2.6. It seems the model is able to more distinctly assign these words into one of the categories, which could explain its higher predictive power. "
   ]
  },
  {
   "cell_type": "markdown",
   "metadata": {},
   "source": [
    "### Parameter weights of the best-performing SGD classifier with bigram analysis"
   ]
  },
  {
   "cell_type": "code",
   "execution_count": 65,
   "metadata": {},
   "outputs": [
    {
     "data": {
      "text/plain": [
       "[('washingtonpost com', 4.957600724582644),\n",
       " ('ap microsoft', 2.828741098727557),\n",
       " ('washington ap', 2.7064684100508947),\n",
       " ('pt organizations', 2.5687082222176727),\n",
       " ('reuters online', 2.4749183078056225),\n",
       " ('video game', 2.4697514302279995),\n",
       " ('ap google', 2.467626951216686),\n",
       " ('36 billion', 2.402926252974999),\n",
       " ('at corp', 2.3937935195251807),\n",
       " ('ap computer', 2.3580804723387847)]"
      ]
     },
     "execution_count": 65,
     "metadata": {},
     "output_type": "execute_result"
    }
   ],
   "source": [
    "def ngram_order(f):\n",
    "    return len(f.split())\n",
    "[fw for fw in sgd_best_weights if ngram_order(fw[0])==2][:10]"
   ]
  },
  {
   "cell_type": "code",
   "execution_count": 66,
   "metadata": {},
   "outputs": [
    {
     "data": {
      "text/plain": [
       "[('francisco reuters', -2.0551652509706706),\n",
       " ('york top', -2.100658178447378),\n",
       " ('hellip and', -2.2512636483476895),\n",
       " ('19 pm', -2.255474606398488),\n",
       " ('company 39', -2.313685301444235),\n",
       " ('39 largest', -2.335948190051315),\n",
       " ('canadian press', -2.444872268914245),\n",
       " ('inc the', -2.463560713028669),\n",
       " ('oracle 39', -2.533496095723256),\n",
       " ('new york', -3.1925045363436158)]"
      ]
     },
     "execution_count": 66,
     "metadata": {},
     "output_type": "execute_result"
    }
   ],
   "source": [
    "[fw for fw in sgd_best_weights if len(fw[0].split())==2][-10:]"
   ]
  },
  {
   "cell_type": "markdown",
   "metadata": {},
   "source": [
    "In the ngram weight summary, we can see that the most strongly weighted parameters are mostly those with a combination of news agency names ('washington ap','reuters online' etc.). Probably, this results from these bigrams' high frequency in the news articles and because they can be easily categorized to a class based on their focus in news reporting (e.g. Reuters with a focus on business news).\n",
    "\n",
    "As a next step, we looked at some exemplary texts that contain some of these strongly positively and negatively weighted words and try to infer why the model assigned these weights. We did so by looking at the frequency of their occurence, the assigned labels we retrieved for the respective text as well as a subjective interpretation of the text."
   ]
  },
  {
   "cell_type": "code",
   "execution_count": 92,
   "metadata": {},
   "outputs": [
    {
     "data": {
      "text/html": [
       "<div>\n",
       "<style scoped>\n",
       "    .dataframe tbody tr th:only-of-type {\n",
       "        vertical-align: middle;\n",
       "    }\n",
       "\n",
       "    .dataframe tbody tr th {\n",
       "        vertical-align: top;\n",
       "    }\n",
       "\n",
       "    .dataframe thead th {\n",
       "        text-align: right;\n",
       "    }\n",
       "</style>\n",
       "<table border=\"1\" class=\"dataframe\">\n",
       "  <thead>\n",
       "    <tr style=\"text-align: right;\">\n",
       "      <th></th>\n",
       "      <th>text</th>\n",
       "      <th>label</th>\n",
       "      <th>label_int</th>\n",
       "      <th>science_int</th>\n",
       "      <th>sports_int</th>\n",
       "      <th>world_int</th>\n",
       "      <th>business_int</th>\n",
       "    </tr>\n",
       "  </thead>\n",
       "  <tbody>\n",
       "    <tr>\n",
       "      <th>37</th>\n",
       "      <td>SPACE.com - A new report released by an Americ...</td>\n",
       "      <td>Science</td>\n",
       "      <td>0</td>\n",
       "      <td>1</td>\n",
       "      <td>0</td>\n",
       "      <td>0</td>\n",
       "      <td>0</td>\n",
       "    </tr>\n",
       "    <tr>\n",
       "      <th>52</th>\n",
       "      <td>MOJAVE, California -- SpaceShipOne made histor...</td>\n",
       "      <td>Science</td>\n",
       "      <td>0</td>\n",
       "      <td>1</td>\n",
       "      <td>0</td>\n",
       "      <td>0</td>\n",
       "      <td>0</td>\n",
       "    </tr>\n",
       "    <tr>\n",
       "      <th>88</th>\n",
       "      <td>NASA, the American space agency responsible fo...</td>\n",
       "      <td>Science</td>\n",
       "      <td>0</td>\n",
       "      <td>1</td>\n",
       "      <td>0</td>\n",
       "      <td>0</td>\n",
       "      <td>0</td>\n",
       "    </tr>\n",
       "    <tr>\n",
       "      <th>122</th>\n",
       "      <td>A report commissioned by NASA says the space a...</td>\n",
       "      <td>Science</td>\n",
       "      <td>0</td>\n",
       "      <td>1</td>\n",
       "      <td>0</td>\n",
       "      <td>0</td>\n",
       "      <td>0</td>\n",
       "    </tr>\n",
       "    <tr>\n",
       "      <th>189</th>\n",
       "      <td>PASADENA, Calif. -- Northrop Grumman Space Tec...</td>\n",
       "      <td>Science</td>\n",
       "      <td>0</td>\n",
       "      <td>1</td>\n",
       "      <td>0</td>\n",
       "      <td>0</td>\n",
       "      <td>0</td>\n",
       "    </tr>\n",
       "    <tr>\n",
       "      <th>...</th>\n",
       "      <td>...</td>\n",
       "      <td>...</td>\n",
       "      <td>...</td>\n",
       "      <td>...</td>\n",
       "      <td>...</td>\n",
       "      <td>...</td>\n",
       "      <td>...</td>\n",
       "    </tr>\n",
       "    <tr>\n",
       "      <th>109615</th>\n",
       "      <td>Buzz Aldrin, the second man to walk on the moo...</td>\n",
       "      <td>Science</td>\n",
       "      <td>0</td>\n",
       "      <td>1</td>\n",
       "      <td>0</td>\n",
       "      <td>0</td>\n",
       "      <td>0</td>\n",
       "    </tr>\n",
       "    <tr>\n",
       "      <th>109678</th>\n",
       "      <td>A Russian-US crew returned to Earth from the i...</td>\n",
       "      <td>Science</td>\n",
       "      <td>0</td>\n",
       "      <td>1</td>\n",
       "      <td>0</td>\n",
       "      <td>0</td>\n",
       "      <td>0</td>\n",
       "    </tr>\n",
       "    <tr>\n",
       "      <th>109694</th>\n",
       "      <td>SPACE.com - MOJAVE, CALIFORNIA - Human \\  flig...</td>\n",
       "      <td>Science</td>\n",
       "      <td>0</td>\n",
       "      <td>1</td>\n",
       "      <td>0</td>\n",
       "      <td>0</td>\n",
       "      <td>0</td>\n",
       "    </tr>\n",
       "    <tr>\n",
       "      <th>109827</th>\n",
       "      <td>SALT LAKE CITY -- For Los Alamos physicist Rog...</td>\n",
       "      <td>Science</td>\n",
       "      <td>0</td>\n",
       "      <td>1</td>\n",
       "      <td>0</td>\n",
       "      <td>0</td>\n",
       "      <td>0</td>\n",
       "    </tr>\n",
       "    <tr>\n",
       "      <th>109951</th>\n",
       "      <td>Building systems and aerospace products maker ...</td>\n",
       "      <td>Science</td>\n",
       "      <td>0</td>\n",
       "      <td>1</td>\n",
       "      <td>0</td>\n",
       "      <td>0</td>\n",
       "      <td>0</td>\n",
       "    </tr>\n",
       "  </tbody>\n",
       "</table>\n",
       "<p>1575 rows × 7 columns</p>\n",
       "</div>"
      ],
      "text/plain": [
       "                                                     text    label  label_int  \\\n",
       "37      SPACE.com - A new report released by an Americ...  Science          0   \n",
       "52      MOJAVE, California -- SpaceShipOne made histor...  Science          0   \n",
       "88      NASA, the American space agency responsible fo...  Science          0   \n",
       "122     A report commissioned by NASA says the space a...  Science          0   \n",
       "189     PASADENA, Calif. -- Northrop Grumman Space Tec...  Science          0   \n",
       "...                                                   ...      ...        ...   \n",
       "109615  Buzz Aldrin, the second man to walk on the moo...  Science          0   \n",
       "109678  A Russian-US crew returned to Earth from the i...  Science          0   \n",
       "109694  SPACE.com - MOJAVE, CALIFORNIA - Human \\  flig...  Science          0   \n",
       "109827  SALT LAKE CITY -- For Los Alamos physicist Rog...  Science          0   \n",
       "109951  Building systems and aerospace products maker ...  Science          0   \n",
       "\n",
       "        science_int  sports_int  world_int  business_int  \n",
       "37                1           0          0             0  \n",
       "52                1           0          0             0  \n",
       "88                1           0          0             0  \n",
       "122               1           0          0             0  \n",
       "189               1           0          0             0  \n",
       "...             ...         ...        ...           ...  \n",
       "109615            1           0          0             0  \n",
       "109678            1           0          0             0  \n",
       "109694            1           0          0             0  \n",
       "109827            1           0          0             0  \n",
       "109951            1           0          0             0  \n",
       "\n",
       "[1575 rows x 7 columns]"
      ]
     },
     "execution_count": 92,
     "metadata": {},
     "output_type": "execute_result"
    }
   ],
   "source": [
    "# Analysis with a clearly allocatable word\n",
    "(data[data['text'].str.contains ('space')])"
   ]
  },
  {
   "cell_type": "code",
   "execution_count": 88,
   "metadata": {},
   "outputs": [
    {
     "data": {
      "text/html": [
       "<div>\n",
       "<style scoped>\n",
       "    .dataframe tbody tr th:only-of-type {\n",
       "        vertical-align: middle;\n",
       "    }\n",
       "\n",
       "    .dataframe tbody tr th {\n",
       "        vertical-align: top;\n",
       "    }\n",
       "\n",
       "    .dataframe thead th {\n",
       "        text-align: right;\n",
       "    }\n",
       "</style>\n",
       "<table border=\"1\" class=\"dataframe\">\n",
       "  <thead>\n",
       "    <tr style=\"text-align: right;\">\n",
       "      <th></th>\n",
       "      <th>label_int</th>\n",
       "      <th>science_int</th>\n",
       "      <th>sports_int</th>\n",
       "      <th>world_int</th>\n",
       "      <th>business_int</th>\n",
       "    </tr>\n",
       "  </thead>\n",
       "  <tbody>\n",
       "    <tr>\n",
       "      <th>count</th>\n",
       "      <td>1575.000000</td>\n",
       "      <td>1575.000000</td>\n",
       "      <td>1575.000000</td>\n",
       "      <td>1575.000000</td>\n",
       "      <td>1575.000000</td>\n",
       "    </tr>\n",
       "    <tr>\n",
       "      <th>mean</th>\n",
       "      <td>0.289524</td>\n",
       "      <td>0.889524</td>\n",
       "      <td>0.002540</td>\n",
       "      <td>0.036825</td>\n",
       "      <td>0.071111</td>\n",
       "    </tr>\n",
       "    <tr>\n",
       "      <th>std</th>\n",
       "      <td>0.840515</td>\n",
       "      <td>0.313582</td>\n",
       "      <td>0.050347</td>\n",
       "      <td>0.188393</td>\n",
       "      <td>0.257092</td>\n",
       "    </tr>\n",
       "    <tr>\n",
       "      <th>min</th>\n",
       "      <td>0.000000</td>\n",
       "      <td>0.000000</td>\n",
       "      <td>0.000000</td>\n",
       "      <td>0.000000</td>\n",
       "      <td>0.000000</td>\n",
       "    </tr>\n",
       "    <tr>\n",
       "      <th>25%</th>\n",
       "      <td>0.000000</td>\n",
       "      <td>1.000000</td>\n",
       "      <td>0.000000</td>\n",
       "      <td>0.000000</td>\n",
       "      <td>0.000000</td>\n",
       "    </tr>\n",
       "    <tr>\n",
       "      <th>50%</th>\n",
       "      <td>0.000000</td>\n",
       "      <td>1.000000</td>\n",
       "      <td>0.000000</td>\n",
       "      <td>0.000000</td>\n",
       "      <td>0.000000</td>\n",
       "    </tr>\n",
       "    <tr>\n",
       "      <th>75%</th>\n",
       "      <td>0.000000</td>\n",
       "      <td>1.000000</td>\n",
       "      <td>0.000000</td>\n",
       "      <td>0.000000</td>\n",
       "      <td>0.000000</td>\n",
       "    </tr>\n",
       "    <tr>\n",
       "      <th>max</th>\n",
       "      <td>3.000000</td>\n",
       "      <td>1.000000</td>\n",
       "      <td>1.000000</td>\n",
       "      <td>1.000000</td>\n",
       "      <td>1.000000</td>\n",
       "    </tr>\n",
       "  </tbody>\n",
       "</table>\n",
       "</div>"
      ],
      "text/plain": [
       "         label_int  science_int   sports_int    world_int  business_int\n",
       "count  1575.000000  1575.000000  1575.000000  1575.000000   1575.000000\n",
       "mean      0.289524     0.889524     0.002540     0.036825      0.071111\n",
       "std       0.840515     0.313582     0.050347     0.188393      0.257092\n",
       "min       0.000000     0.000000     0.000000     0.000000      0.000000\n",
       "25%       0.000000     1.000000     0.000000     0.000000      0.000000\n",
       "50%       0.000000     1.000000     0.000000     0.000000      0.000000\n",
       "75%       0.000000     1.000000     0.000000     0.000000      0.000000\n",
       "max       3.000000     1.000000     1.000000     1.000000      1.000000"
      ]
     },
     "execution_count": 88,
     "metadata": {},
     "output_type": "execute_result"
    }
   ],
   "source": [
    "(data[data['text'].str.contains ('space')]).describe()"
   ]
  },
  {
   "cell_type": "code",
   "execution_count": 84,
   "metadata": {},
   "outputs": [
    {
     "data": {
      "text/plain": [
       "'MOJAVE, California -- SpaceShipOne made history Monday and triumphed in the international Ansari X Prize race to launch the first privately built spacecraft.'"
      ]
     },
     "execution_count": 84,
     "metadata": {},
     "output_type": "execute_result"
    }
   ],
   "source": [
    "data[data['text'].str.contains ('space')]['text'][52]"
   ]
  },
  {
   "cell_type": "code",
   "execution_count": 86,
   "metadata": {},
   "outputs": [
    {
     "data": {
      "text/plain": [
       "'A Russian-US crew returned to Earth from the international space station Sunday in a pinpoint landing on the Kazakhstan steppe, and NASA #39;s chief said the United States '"
      ]
     },
     "execution_count": 86,
     "metadata": {},
     "output_type": "execute_result"
    }
   ],
   "source": [
    "data[data['text'].str.contains ('space')]['text'][109678]"
   ]
  },
  {
   "cell_type": "code",
   "execution_count": 98,
   "metadata": {},
   "outputs": [
    {
     "data": {
      "text/plain": [
       "<matplotlib.axes._subplots.AxesSubplot at 0x7fcdb1156d90>"
      ]
     },
     "execution_count": 98,
     "metadata": {},
     "output_type": "execute_result"
    },
    {
     "data": {
      "image/png": "[encoded data removed]",
      "text/plain": [
       "<Figure size 432x288 with 1 Axes>"
      ]
     },
     "metadata": {
      "needs_background": "light"
     },
     "output_type": "display_data"
    }
   ],
   "source": [
    "yesterday = (data[data['text'].str.contains ('space')])['label']\n",
    "yesterday.hist()"
   ]
  },
  {
   "cell_type": "code",
   "execution_count": 91,
   "metadata": {},
   "outputs": [
    {
     "data": {
      "text/html": [
       "<div>\n",
       "<style scoped>\n",
       "    .dataframe tbody tr th:only-of-type {\n",
       "        vertical-align: middle;\n",
       "    }\n",
       "\n",
       "    .dataframe tbody tr th {\n",
       "        vertical-align: top;\n",
       "    }\n",
       "\n",
       "    .dataframe thead th {\n",
       "        text-align: right;\n",
       "    }\n",
       "</style>\n",
       "<table border=\"1\" class=\"dataframe\">\n",
       "  <thead>\n",
       "    <tr style=\"text-align: right;\">\n",
       "      <th></th>\n",
       "      <th>text</th>\n",
       "      <th>label</th>\n",
       "      <th>label_int</th>\n",
       "      <th>science_int</th>\n",
       "      <th>sports_int</th>\n",
       "      <th>world_int</th>\n",
       "      <th>business_int</th>\n",
       "    </tr>\n",
       "  </thead>\n",
       "  <tbody>\n",
       "    <tr>\n",
       "      <th>144</th>\n",
       "      <td>Luke Donald kept his cool in the Swiss mountai...</td>\n",
       "      <td>Sports</td>\n",
       "      <td>1</td>\n",
       "      <td>0</td>\n",
       "      <td>1</td>\n",
       "      <td>0</td>\n",
       "      <td>0</td>\n",
       "    </tr>\n",
       "    <tr>\n",
       "      <th>186</th>\n",
       "      <td>Banking group HBoS has been given access to Ab...</td>\n",
       "      <td>Business</td>\n",
       "      <td>3</td>\n",
       "      <td>0</td>\n",
       "      <td>0</td>\n",
       "      <td>0</td>\n",
       "      <td>1</td>\n",
       "    </tr>\n",
       "    <tr>\n",
       "      <th>200</th>\n",
       "      <td>JUST yesterday, it looked as though West Indie...</td>\n",
       "      <td>Sports</td>\n",
       "      <td>1</td>\n",
       "      <td>0</td>\n",
       "      <td>1</td>\n",
       "      <td>0</td>\n",
       "      <td>0</td>\n",
       "    </tr>\n",
       "    <tr>\n",
       "      <th>203</th>\n",
       "      <td>names Tiger Woods turned in his most complete ...</td>\n",
       "      <td>Sports</td>\n",
       "      <td>1</td>\n",
       "      <td>0</td>\n",
       "      <td>1</td>\n",
       "      <td>0</td>\n",
       "      <td>0</td>\n",
       "    </tr>\n",
       "    <tr>\n",
       "      <th>224</th>\n",
       "      <td>A sabotage attack on a cluster of about 20 oil...</td>\n",
       "      <td>World</td>\n",
       "      <td>2</td>\n",
       "      <td>0</td>\n",
       "      <td>0</td>\n",
       "      <td>1</td>\n",
       "      <td>0</td>\n",
       "    </tr>\n",
       "    <tr>\n",
       "      <th>...</th>\n",
       "      <td>...</td>\n",
       "      <td>...</td>\n",
       "      <td>...</td>\n",
       "      <td>...</td>\n",
       "      <td>...</td>\n",
       "      <td>...</td>\n",
       "      <td>...</td>\n",
       "    </tr>\n",
       "    <tr>\n",
       "      <th>109846</th>\n",
       "      <td>Computer Associates International yesterday re...</td>\n",
       "      <td>Science</td>\n",
       "      <td>0</td>\n",
       "      <td>1</td>\n",
       "      <td>0</td>\n",
       "      <td>0</td>\n",
       "      <td>0</td>\n",
       "    </tr>\n",
       "    <tr>\n",
       "      <th>109863</th>\n",
       "      <td>Arm Holdings shares slumped 18pc yesterday aft...</td>\n",
       "      <td>Business</td>\n",
       "      <td>3</td>\n",
       "      <td>0</td>\n",
       "      <td>0</td>\n",
       "      <td>0</td>\n",
       "      <td>1</td>\n",
       "    </tr>\n",
       "    <tr>\n",
       "      <th>109867</th>\n",
       "      <td>Army commanders ordered a Patriot missile batt...</td>\n",
       "      <td>World</td>\n",
       "      <td>2</td>\n",
       "      <td>0</td>\n",
       "      <td>0</td>\n",
       "      <td>1</td>\n",
       "      <td>0</td>\n",
       "    </tr>\n",
       "    <tr>\n",
       "      <th>109940</th>\n",
       "      <td>Jeremy Shockey yesterday reiterated his commen...</td>\n",
       "      <td>Sports</td>\n",
       "      <td>1</td>\n",
       "      <td>0</td>\n",
       "      <td>1</td>\n",
       "      <td>0</td>\n",
       "      <td>0</td>\n",
       "    </tr>\n",
       "    <tr>\n",
       "      <th>109950</th>\n",
       "      <td>Microsoft yesterday took the wraps off a new s...</td>\n",
       "      <td>Science</td>\n",
       "      <td>0</td>\n",
       "      <td>1</td>\n",
       "      <td>0</td>\n",
       "      <td>0</td>\n",
       "      <td>0</td>\n",
       "    </tr>\n",
       "  </tbody>\n",
       "</table>\n",
       "<p>5501 rows × 7 columns</p>\n",
       "</div>"
      ],
      "text/plain": [
       "                                                     text     label  \\\n",
       "144     Luke Donald kept his cool in the Swiss mountai...    Sports   \n",
       "186     Banking group HBoS has been given access to Ab...  Business   \n",
       "200     JUST yesterday, it looked as though West Indie...    Sports   \n",
       "203     names Tiger Woods turned in his most complete ...    Sports   \n",
       "224     A sabotage attack on a cluster of about 20 oil...     World   \n",
       "...                                                   ...       ...   \n",
       "109846  Computer Associates International yesterday re...   Science   \n",
       "109863  Arm Holdings shares slumped 18pc yesterday aft...  Business   \n",
       "109867  Army commanders ordered a Patriot missile batt...     World   \n",
       "109940  Jeremy Shockey yesterday reiterated his commen...    Sports   \n",
       "109950  Microsoft yesterday took the wraps off a new s...   Science   \n",
       "\n",
       "        label_int  science_int  sports_int  world_int  business_int  \n",
       "144             1            0           1          0             0  \n",
       "186             3            0           0          0             1  \n",
       "200             1            0           1          0             0  \n",
       "203             1            0           1          0             0  \n",
       "224             2            0           0          1             0  \n",
       "...           ...          ...         ...        ...           ...  \n",
       "109846          0            1           0          0             0  \n",
       "109863          3            0           0          0             1  \n",
       "109867          2            0           0          1             0  \n",
       "109940          1            0           1          0             0  \n",
       "109950          0            1           0          0             0  \n",
       "\n",
       "[5501 rows x 7 columns]"
      ]
     },
     "execution_count": 91,
     "metadata": {},
     "output_type": "execute_result"
    }
   ],
   "source": [
    "# Analysis with a less clearly allocatable word\n",
    "(data[data['text'].str.contains ('yesterday')])"
   ]
  },
  {
   "cell_type": "code",
   "execution_count": 96,
   "metadata": {},
   "outputs": [
    {
     "data": {
      "text/plain": [
       "<matplotlib.axes._subplots.AxesSubplot at 0x7fcdb0ec1100>"
      ]
     },
     "execution_count": 96,
     "metadata": {},
     "output_type": "execute_result"
    },
    {
     "data": {
      "image/png": "[encoded data removed]",
      "text/plain": [
       "<Figure size 432x288 with 1 Axes>"
      ]
     },
     "metadata": {
      "needs_background": "light"
     },
     "output_type": "display_data"
    }
   ],
   "source": [
    "yesterday = (data[data['text'].str.contains ('yesterday')])['label']\n",
    "yesterday.hist()"
   ]
  },
  {
   "cell_type": "code",
   "execution_count": 90,
   "metadata": {},
   "outputs": [
    {
     "data": {
      "text/plain": [
       "'Jeremy Shockey yesterday reiterated his comments from Wednesday about his frustration with his role but denied he was insinuating that he is unhappy with how Giants coach Tom Coughlin is using him.'"
      ]
     },
     "execution_count": 90,
     "metadata": {},
     "output_type": "execute_result"
    }
   ],
   "source": [
    "(data[data['text'].str.contains ('yesterday')])['text'][109940]"
   ]
  },
  {
   "cell_type": "markdown",
   "metadata": {},
   "source": [
    "We can clearly see that the model allocates a strong weight to words such as 'space' as it almost exclusively appears in texts that belong to the label 'science' (supported by around 1,400 instances). More open words such as 'yesterday' on the other hand, have a higher distribution among the different labels and thus have less predictive power, leading to a lower / negative score."
   ]
  },
  {
   "cell_type": "markdown",
   "metadata": {},
   "source": [
    "### Predicting the class of an exemplary sentence"
   ]
  },
  {
   "cell_type": "code",
   "execution_count": 51,
   "metadata": {},
   "outputs": [
    {
     "data": {
      "text/plain": [
       "array([[-1.57960466,  2.99630365, -2.2812262 , -2.52231613]])"
      ]
     },
     "execution_count": 51,
     "metadata": {},
     "output_type": "execute_result"
    }
   ],
   "source": [
    "sgd_best.decision_function(['The football club made a great game and won against the other team'])"
   ]
  },
  {
   "cell_type": "code",
   "execution_count": 53,
   "metadata": {},
   "outputs": [
    {
     "data": {
      "text/plain": [
       "array([[ 1.41651179, -1.86746694, -0.93583407, -1.46080558]])"
      ]
     },
     "execution_count": 53,
     "metadata": {},
     "output_type": "execute_result"
    }
   ],
   "source": [
    "sgd_best.decision_function(['The scientists discovered the new vaccine after after years of research and experiments'])"
   ]
  },
  {
   "cell_type": "code",
   "execution_count": 107,
   "metadata": {},
   "outputs": [
    {
     "data": {
      "text/plain": [
       "array([3])"
      ]
     },
     "execution_count": 107,
     "metadata": {},
     "output_type": "execute_result"
    }
   ],
   "source": [
    "sgd_best.predict(['The company made record profits in this fiscal year'])"
   ]
  },
  {
   "cell_type": "markdown",
   "metadata": {},
   "source": [
    "With multi-class predictions, the model categorizes the text to the respective labels by identifying the category with the highest weight. For instance: the 2nd test text can be clearly allocated to the 'Science' category, and correspondingly the weight for this label in the decision array is the highest (1.42 for label 0 = Science). Internally, the model allocates the weights to each of the classes and predicts the class with the heighest weight in this more complex multi-class setup (compared to the easier positive-negative binary classification task)."
   ]
  },
  {
   "cell_type": "markdown",
   "metadata": {},
   "source": [
    "### Exemplary prediction score breakdown\n",
    "Considering the bias of each prediction as well as the composite weights and scores of each word and their combinations within the text example."
   ]
  },
  {
   "cell_type": "code",
   "execution_count": 67,
   "metadata": {},
   "outputs": [],
   "source": [
    "# Compute the prediction score of a text by breaking it down into the individual values, \n",
    "# weights and scores of each single word and n-grams of the text.\n",
    "\n",
    "def prediction_score_breakdown(sk_model, text):\n",
    "\n",
    "    X = [text]\n",
    "    for step_name, model in sk_model.steps[:-1]:\n",
    "        X = model.transform(X)\n",
    "    nzrows, nzcolumns = X.nonzero()\n",
    "    \n",
    "    F = sk_model.steps[0][1].get_feature_names()\n",
    "    W = sk_model.steps[-1][1].coef_[0]\n",
    "    bias = sk_model.steps[-1][1].intercept_[0]\n",
    "    total_score = bias\n",
    "    print('prediction_score={:.3f}   bias={}'.format(total_score, bias))\n",
    "    \n",
    "    for i,j in zip(nzrows, nzcolumns):\n",
    "        f = F[j]\n",
    "        v = X[i,j]\n",
    "        w = W[j]\n",
    "        s = w*v\n",
    "        total_score += s\n",
    "        print('prediction_score={:.3f}fdim={:5d}, fword=\"{:s}\", value={:.4f},weight={:.4f}, score={:.4f}'.format(total_score, j, f, v, w, s))\n",
    "    \n",
    "    return total_score"
   ]
  },
  {
   "cell_type": "code",
   "execution_count": 60,
   "metadata": {},
   "outputs": [
    {
     "name": "stdout",
     "output_type": "stream",
     "text": [
      "prediction_score=-0.404   bias=-0.40382827216515377\n",
      "prediction_score=-0.376fdim=2812192, fword=\"years of research\", value=0.3316,weight=0.0838, score=0.0278\n",
      "prediction_score=-0.377fdim=2812038, fword=\"years of\", value=0.1886,weight=-0.0043, score=-0.0008\n",
      "prediction_score=-0.375fdim=2810565, fword=\"years\", value=0.1207,weight=0.0172, score=0.0021\n",
      "prediction_score=-0.308fdim=2643819, fword=\"vaccine\", value=0.2172,weight=0.3075, score=0.0668\n",
      "prediction_score=-0.405fdim=2426050, fword=\"the scientists\", value=0.2817,weight=-0.3440, score=-0.0969\n",
      "prediction_score=-0.423fdim=2410815, fword=\"the new\", value=0.1380,weight=-0.1294, score=-0.0179\n",
      "prediction_score=-0.502fdim=2362622, fword=\"the\", value=0.0678,weight=-1.1627, score=-0.0788\n",
      "prediction_score=-0.495fdim=2094570, fword=\"scientists discovered\", value=0.3316,weight=0.0208, score=0.0069\n",
      "prediction_score=0.337fdim=2094361, fword=\"scientists\", value=0.1592,weight=5.2267, score=0.8322\n",
      "prediction_score=0.393fdim=2007951, fword=\"research and\", value=0.2163,weight=0.2550, score=0.0552\n",
      "prediction_score=0.676fdim=2007876, fword=\"research\", value=0.1393,weight=2.0352, score=0.2836\n",
      "prediction_score=0.644fdim=1682632, fword=\"of research and\", value=0.3061,weight=-0.1068, score=-0.0327\n",
      "prediction_score=0.707fdim=1682631, fword=\"of research\", value=0.2755,weight=0.2300, score=0.0634\n",
      "prediction_score=0.743fdim=1648215, fword=\"of\", value=0.0456,weight=0.7997, score=0.0365\n",
      "prediction_score=0.865fdim=1598377, fword=\"new\", value=0.0840,weight=1.4486, score=0.1217\n",
      "prediction_score=1.046fdim=843081, fword=\"experiments\", value=0.2339,weight=0.7741, score=0.1810\n",
      "prediction_score=1.157fdim=733422, fword=\"discovered the\", value=0.2592,weight=0.4267, score=0.1106\n",
      "prediction_score=1.664fdim=733162, fword=\"discovered\", value=0.1920,weight=2.6411, score=0.5070\n",
      "prediction_score=1.671fdim=185155, fword=\"and\", value=0.0510,weight=0.1374, score=0.0070\n",
      "prediction_score=1.671fdim=128159, fword=\"after years of\", value=0.2415,weight=0.0000, score=0.0000\n",
      "prediction_score=1.667fdim=128155, fword=\"after years\", value=0.2374,weight=-0.0140, score=-0.0033\n",
      "prediction_score=1.417fdim=119410, fword=\"after\", value=0.1828,weight=-1.3724, score=-0.2509\n"
     ]
    },
    {
     "data": {
      "text/plain": [
       "1.4165117923840553"
      ]
     },
     "execution_count": 60,
     "metadata": {},
     "output_type": "execute_result"
    }
   ],
   "source": [
    "prediction_score_breakdown(sgd_best, 'The scientists discovered the new vaccine after years of research and experiments')"
   ]
  }
 ],
 "metadata": {
  "kernelspec": {
   "display_name": "Python 3",
   "language": "python",
   "name": "python3"
  },
  "language_info": {
   "codemirror_mode": {
    "name": "ipython",
    "version": 3
   },
   "file_extension": ".py",
   "mimetype": "text/x-python",
   "name": "python",
   "nbconvert_exporter": "python",
   "pygments_lexer": "ipython3",
   "version": "3.8.10"
  }
 },
 "nbformat": 4,
 "nbformat_minor": 4
}
